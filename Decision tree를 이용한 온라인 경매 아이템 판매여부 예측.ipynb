{
 "cells": [
  {
   "cell_type": "markdown",
   "metadata": {},
   "source": [
    "# Decision Tree를 이용한 온라인 경매 아이템 판매여부 예측\n",
    "\n",
    "- 각 변수의 영향 확인"
   ]
  },
  {
   "cell_type": "markdown",
   "metadata": {},
   "source": [
    "## 1. 모듈 및 데이터 불러오기"
   ]
  },
  {
   "cell_type": "code",
   "execution_count": 1,
   "metadata": {},
   "outputs": [],
   "source": [
    "import pandas as pd\n",
    "import numpy as np\n",
    "import matplotlib.pyplot as plt\n",
    "import seaborn as sns"
   ]
  },
  {
   "cell_type": "code",
   "execution_count": 2,
   "metadata": {},
   "outputs": [
    {
     "data": {
      "text/html": [
       "<div>\n",
       "<style scoped>\n",
       "    .dataframe tbody tr th:only-of-type {\n",
       "        vertical-align: middle;\n",
       "    }\n",
       "\n",
       "    .dataframe tbody tr th {\n",
       "        vertical-align: top;\n",
       "    }\n",
       "\n",
       "    .dataframe thead th {\n",
       "        text-align: right;\n",
       "    }\n",
       "</style>\n",
       "<table border=\"1\" class=\"dataframe\">\n",
       "  <thead>\n",
       "    <tr style=\"text-align: right;\">\n",
       "      <th></th>\n",
       "      <th>BuyItNow</th>\n",
       "      <th>startprice</th>\n",
       "      <th>carrier</th>\n",
       "      <th>color</th>\n",
       "      <th>productline</th>\n",
       "      <th>noDescription</th>\n",
       "      <th>charCountDescription</th>\n",
       "      <th>upperCaseDescription</th>\n",
       "      <th>sold</th>\n",
       "    </tr>\n",
       "  </thead>\n",
       "  <tbody>\n",
       "    <tr>\n",
       "      <th>0</th>\n",
       "      <td>0</td>\n",
       "      <td>199.99</td>\n",
       "      <td>None</td>\n",
       "      <td>White</td>\n",
       "      <td>Galaxy_S9</td>\n",
       "      <td>contains description</td>\n",
       "      <td>0</td>\n",
       "      <td>0</td>\n",
       "      <td>1</td>\n",
       "    </tr>\n",
       "    <tr>\n",
       "      <th>1</th>\n",
       "      <td>0</td>\n",
       "      <td>235.00</td>\n",
       "      <td>None</td>\n",
       "      <td>NaN</td>\n",
       "      <td>Galaxy_Note9</td>\n",
       "      <td>contains description</td>\n",
       "      <td>0</td>\n",
       "      <td>0</td>\n",
       "      <td>0</td>\n",
       "    </tr>\n",
       "    <tr>\n",
       "      <th>2</th>\n",
       "      <td>0</td>\n",
       "      <td>199.99</td>\n",
       "      <td>NaN</td>\n",
       "      <td>NaN</td>\n",
       "      <td>Unknown</td>\n",
       "      <td>no description</td>\n",
       "      <td>100</td>\n",
       "      <td>2</td>\n",
       "      <td>0</td>\n",
       "    </tr>\n",
       "    <tr>\n",
       "      <th>3</th>\n",
       "      <td>1</td>\n",
       "      <td>175.00</td>\n",
       "      <td>AT&amp;T</td>\n",
       "      <td>Space Gray</td>\n",
       "      <td>Galaxy_Note9</td>\n",
       "      <td>contains description</td>\n",
       "      <td>0</td>\n",
       "      <td>0</td>\n",
       "      <td>1</td>\n",
       "    </tr>\n",
       "    <tr>\n",
       "      <th>4</th>\n",
       "      <td>1</td>\n",
       "      <td>100.00</td>\n",
       "      <td>None</td>\n",
       "      <td>Space Gray</td>\n",
       "      <td>Galaxy_S8</td>\n",
       "      <td>contains description</td>\n",
       "      <td>0</td>\n",
       "      <td>0</td>\n",
       "      <td>1</td>\n",
       "    </tr>\n",
       "    <tr>\n",
       "      <th>...</th>\n",
       "      <td>...</td>\n",
       "      <td>...</td>\n",
       "      <td>...</td>\n",
       "      <td>...</td>\n",
       "      <td>...</td>\n",
       "      <td>...</td>\n",
       "      <td>...</td>\n",
       "      <td>...</td>\n",
       "      <td>...</td>\n",
       "    </tr>\n",
       "    <tr>\n",
       "      <th>1480</th>\n",
       "      <td>0</td>\n",
       "      <td>89.50</td>\n",
       "      <td>AT&amp;T</td>\n",
       "      <td>NaN</td>\n",
       "      <td>Galaxy_S7</td>\n",
       "      <td>no description</td>\n",
       "      <td>96</td>\n",
       "      <td>2</td>\n",
       "      <td>0</td>\n",
       "    </tr>\n",
       "    <tr>\n",
       "      <th>1481</th>\n",
       "      <td>0</td>\n",
       "      <td>239.95</td>\n",
       "      <td>None</td>\n",
       "      <td>Midnight Black</td>\n",
       "      <td>Galaxy_S9</td>\n",
       "      <td>no description</td>\n",
       "      <td>97</td>\n",
       "      <td>5</td>\n",
       "      <td>1</td>\n",
       "    </tr>\n",
       "    <tr>\n",
       "      <th>1482</th>\n",
       "      <td>0</td>\n",
       "      <td>329.99</td>\n",
       "      <td>None</td>\n",
       "      <td>Space Gray</td>\n",
       "      <td>Galaxy_Note10</td>\n",
       "      <td>no description</td>\n",
       "      <td>93</td>\n",
       "      <td>1</td>\n",
       "      <td>0</td>\n",
       "    </tr>\n",
       "    <tr>\n",
       "      <th>1483</th>\n",
       "      <td>0</td>\n",
       "      <td>89.00</td>\n",
       "      <td>None</td>\n",
       "      <td>Midnight Black</td>\n",
       "      <td>Galaxy_S7</td>\n",
       "      <td>no description</td>\n",
       "      <td>92</td>\n",
       "      <td>2</td>\n",
       "      <td>1</td>\n",
       "    </tr>\n",
       "    <tr>\n",
       "      <th>1484</th>\n",
       "      <td>0</td>\n",
       "      <td>119.99</td>\n",
       "      <td>AT&amp;T</td>\n",
       "      <td>Midnight Black</td>\n",
       "      <td>Galaxy_S7</td>\n",
       "      <td>no description</td>\n",
       "      <td>96</td>\n",
       "      <td>5</td>\n",
       "      <td>0</td>\n",
       "    </tr>\n",
       "  </tbody>\n",
       "</table>\n",
       "<p>1485 rows × 9 columns</p>\n",
       "</div>"
      ],
      "text/plain": [
       "      BuyItNow  startprice carrier           color    productline  \\\n",
       "0            0      199.99    None           White      Galaxy_S9   \n",
       "1            0      235.00    None             NaN   Galaxy_Note9   \n",
       "2            0      199.99     NaN             NaN        Unknown   \n",
       "3            1      175.00    AT&T      Space Gray   Galaxy_Note9   \n",
       "4            1      100.00    None      Space Gray      Galaxy_S8   \n",
       "...        ...         ...     ...             ...            ...   \n",
       "1480         0       89.50    AT&T             NaN      Galaxy_S7   \n",
       "1481         0      239.95    None  Midnight Black      Galaxy_S9   \n",
       "1482         0      329.99    None      Space Gray  Galaxy_Note10   \n",
       "1483         0       89.00    None  Midnight Black      Galaxy_S7   \n",
       "1484         0      119.99    AT&T  Midnight Black      Galaxy_S7   \n",
       "\n",
       "             noDescription  charCountDescription  upperCaseDescription  sold  \n",
       "0     contains description                     0                     0     1  \n",
       "1     contains description                     0                     0     0  \n",
       "2           no description                   100                     2     0  \n",
       "3     contains description                     0                     0     1  \n",
       "4     contains description                     0                     0     1  \n",
       "...                    ...                   ...                   ...   ...  \n",
       "1480        no description                    96                     2     0  \n",
       "1481        no description                    97                     5     1  \n",
       "1482        no description                    93                     1     0  \n",
       "1483        no description                    92                     2     1  \n",
       "1484        no description                    96                     5     0  \n",
       "\n",
       "[1485 rows x 9 columns]"
      ]
     },
     "execution_count": 2,
     "metadata": {},
     "output_type": "execute_result"
    }
   ],
   "source": [
    "data = pd.read_csv('galaxy.csv')\n",
    "data"
   ]
  },
  {
   "cell_type": "markdown",
   "metadata": {},
   "source": [
    "- BuyItNow: 바로구매 가능 여부\n",
    "- startprice: 시작가격\n",
    "- carrier: 미국 통신사 이름\n",
    "- color: 색상\n",
    "- productline: 모델명\n",
    "- noDescription: 상세페이지 설명 여부\n",
    "- charCountDescription: 단어 갯수\n",
    "- upperCaseDescription: 문장 갯수\n",
    "- sold : 판매여부(종속변수)"
   ]
  },
  {
   "cell_type": "markdown",
   "metadata": {},
   "source": [
    "## 2.  데이터 특성 확인"
   ]
  },
  {
   "cell_type": "code",
   "execution_count": 3,
   "metadata": {},
   "outputs": [
    {
     "name": "stdout",
     "output_type": "stream",
     "text": [
      "<class 'pandas.core.frame.DataFrame'>\n",
      "RangeIndex: 1485 entries, 0 to 1484\n",
      "Data columns (total 9 columns):\n",
      " #   Column                Non-Null Count  Dtype  \n",
      "---  ------                --------------  -----  \n",
      " 0   BuyItNow              1485 non-null   int64  \n",
      " 1   startprice            1485 non-null   float64\n",
      " 2   carrier               1179 non-null   object \n",
      " 3   color                 892 non-null    object \n",
      " 4   productline           1485 non-null   object \n",
      " 5   noDescription         1485 non-null   object \n",
      " 6   charCountDescription  1485 non-null   int64  \n",
      " 7   upperCaseDescription  1485 non-null   int64  \n",
      " 8   sold                  1485 non-null   int64  \n",
      "dtypes: float64(1), int64(4), object(4)\n",
      "memory usage: 104.5+ KB\n"
     ]
    }
   ],
   "source": [
    "data.info()"
   ]
  },
  {
   "cell_type": "code",
   "execution_count": 4,
   "metadata": {},
   "outputs": [
    {
     "data": {
      "text/html": [
       "<div>\n",
       "<style scoped>\n",
       "    .dataframe tbody tr th:only-of-type {\n",
       "        vertical-align: middle;\n",
       "    }\n",
       "\n",
       "    .dataframe tbody tr th {\n",
       "        vertical-align: top;\n",
       "    }\n",
       "\n",
       "    .dataframe thead th {\n",
       "        text-align: right;\n",
       "    }\n",
       "</style>\n",
       "<table border=\"1\" class=\"dataframe\">\n",
       "  <thead>\n",
       "    <tr style=\"text-align: right;\">\n",
       "      <th></th>\n",
       "      <th>BuyItNow</th>\n",
       "      <th>startprice</th>\n",
       "      <th>charCountDescription</th>\n",
       "      <th>upperCaseDescription</th>\n",
       "      <th>sold</th>\n",
       "    </tr>\n",
       "  </thead>\n",
       "  <tbody>\n",
       "    <tr>\n",
       "      <th>count</th>\n",
       "      <td>1485.000000</td>\n",
       "      <td>1485.000000</td>\n",
       "      <td>1485.000000</td>\n",
       "      <td>1485.000000</td>\n",
       "      <td>1485.000000</td>\n",
       "    </tr>\n",
       "    <tr>\n",
       "      <th>mean</th>\n",
       "      <td>0.449158</td>\n",
       "      <td>216.844162</td>\n",
       "      <td>31.184512</td>\n",
       "      <td>2.863300</td>\n",
       "      <td>0.461953</td>\n",
       "    </tr>\n",
       "    <tr>\n",
       "      <th>std</th>\n",
       "      <td>0.497576</td>\n",
       "      <td>172.893308</td>\n",
       "      <td>41.744518</td>\n",
       "      <td>9.418585</td>\n",
       "      <td>0.498718</td>\n",
       "    </tr>\n",
       "    <tr>\n",
       "      <th>min</th>\n",
       "      <td>0.000000</td>\n",
       "      <td>0.010000</td>\n",
       "      <td>0.000000</td>\n",
       "      <td>0.000000</td>\n",
       "      <td>0.000000</td>\n",
       "    </tr>\n",
       "    <tr>\n",
       "      <th>25%</th>\n",
       "      <td>0.000000</td>\n",
       "      <td>80.000000</td>\n",
       "      <td>0.000000</td>\n",
       "      <td>0.000000</td>\n",
       "      <td>0.000000</td>\n",
       "    </tr>\n",
       "    <tr>\n",
       "      <th>50%</th>\n",
       "      <td>0.000000</td>\n",
       "      <td>198.000000</td>\n",
       "      <td>0.000000</td>\n",
       "      <td>0.000000</td>\n",
       "      <td>0.000000</td>\n",
       "    </tr>\n",
       "    <tr>\n",
       "      <th>75%</th>\n",
       "      <td>1.000000</td>\n",
       "      <td>310.000000</td>\n",
       "      <td>79.000000</td>\n",
       "      <td>2.000000</td>\n",
       "      <td>1.000000</td>\n",
       "    </tr>\n",
       "    <tr>\n",
       "      <th>max</th>\n",
       "      <td>1.000000</td>\n",
       "      <td>999.000000</td>\n",
       "      <td>111.000000</td>\n",
       "      <td>81.000000</td>\n",
       "      <td>1.000000</td>\n",
       "    </tr>\n",
       "  </tbody>\n",
       "</table>\n",
       "</div>"
      ],
      "text/plain": [
       "          BuyItNow   startprice  charCountDescription  upperCaseDescription  \\\n",
       "count  1485.000000  1485.000000           1485.000000           1485.000000   \n",
       "mean      0.449158   216.844162             31.184512              2.863300   \n",
       "std       0.497576   172.893308             41.744518              9.418585   \n",
       "min       0.000000     0.010000              0.000000              0.000000   \n",
       "25%       0.000000    80.000000              0.000000              0.000000   \n",
       "50%       0.000000   198.000000              0.000000              0.000000   \n",
       "75%       1.000000   310.000000             79.000000              2.000000   \n",
       "max       1.000000   999.000000            111.000000             81.000000   \n",
       "\n",
       "              sold  \n",
       "count  1485.000000  \n",
       "mean      0.461953  \n",
       "std       0.498718  \n",
       "min       0.000000  \n",
       "25%       0.000000  \n",
       "50%       0.000000  \n",
       "75%       1.000000  \n",
       "max       1.000000  "
      ]
     },
     "execution_count": 4,
     "metadata": {},
     "output_type": "execute_result"
    }
   ],
   "source": [
    "data.describe()"
   ]
  },
  {
   "cell_type": "code",
   "execution_count": 5,
   "metadata": {},
   "outputs": [
    {
     "name": "stderr",
     "output_type": "stream",
     "text": [
      "C:\\Users\\psuny\\AppData\\Roaming\\Python\\Python37\\site-packages\\seaborn\\distributions.py:2557: FutureWarning: `distplot` is a deprecated function and will be removed in a future version. Please adapt your code to use either `displot` (a figure-level function with similar flexibility) or `histplot` (an axes-level function for histograms).\n",
      "  warnings.warn(msg, FutureWarning)\n"
     ]
    },
    {
     "data": {
      "text/plain": [
       "<AxesSubplot:xlabel='startprice', ylabel='Density'>"
      ]
     },
     "execution_count": 5,
     "metadata": {},
     "output_type": "execute_result"
    },
    {
     "data": {
      "image/png": "[encoded data removed]",
      "text/plain": [
       "<Figure size 432x288 with 1 Axes>"
      ]
     },
     "metadata": {
      "needs_background": "light"
     },
     "output_type": "display_data"
    }
   ],
   "source": [
    "sns.distplot(data['startprice'])"
   ]
  },
  {
   "cell_type": "code",
   "execution_count": 6,
   "metadata": {},
   "outputs": [
    {
     "name": "stderr",
     "output_type": "stream",
     "text": [
      "C:\\Users\\psuny\\AppData\\Roaming\\Python\\Python37\\site-packages\\seaborn\\distributions.py:2557: FutureWarning: `distplot` is a deprecated function and will be removed in a future version. Please adapt your code to use either `displot` (a figure-level function with similar flexibility) or `histplot` (an axes-level function for histograms).\n",
      "  warnings.warn(msg, FutureWarning)\n"
     ]
    },
    {
     "data": {
      "text/plain": [
       "<AxesSubplot:xlabel='charCountDescription', ylabel='Density'>"
      ]
     },
     "execution_count": 6,
     "metadata": {},
     "output_type": "execute_result"
    },
    {
     "data": {
      "image/png": "[encoded data removed]",
      "text/plain": [
       "<Figure size 432x288 with 1 Axes>"
      ]
     },
     "metadata": {
      "needs_background": "light"
     },
     "output_type": "display_data"
    }
   ],
   "source": [
    "sns.distplot(data['charCountDescription'])"
   ]
  },
  {
   "cell_type": "code",
   "execution_count": 7,
   "metadata": {},
   "outputs": [
    {
     "data": {
      "text/plain": [
       "<AxesSubplot:xlabel='productline', ylabel='startprice'>"
      ]
     },
     "execution_count": 7,
     "metadata": {},
     "output_type": "execute_result"
    },
    {
     "data": {
      "image/png": "[encoded data removed]",
      "text/plain": [
       "<Figure size 1440x720 with 1 Axes>"
      ]
     },
     "metadata": {
      "needs_background": "light"
     },
     "output_type": "display_data"
    }
   ],
   "source": [
    "# 제품별 시작가격 시각화\n",
    "\n",
    "plt.figure(figsize = (20, 10))\n",
    "sns.boxplot(x = 'productline', y = 'startprice', data = data)"
   ]
  },
  {
   "cell_type": "markdown",
   "metadata": {},
   "source": [
    "## 3. 결측치 처리"
   ]
  },
  {
   "cell_type": "markdown",
   "metadata": {},
   "source": [
    "#### 텍스트 데이터의 전처리 방법\n",
    "\n",
    "1. 지배적으로 많은 값이 있으면 해당 값으로 대체\n",
    "2. Unknown 그 자체로 값 대체"
   ]
  },
  {
   "cell_type": "code",
   "execution_count": 8,
   "metadata": {},
   "outputs": [
    {
     "data": {
      "text/plain": [
       "BuyItNow                  0\n",
       "startprice                0\n",
       "carrier                 306\n",
       "color                   593\n",
       "productline               0\n",
       "noDescription             0\n",
       "charCountDescription      0\n",
       "upperCaseDescription      0\n",
       "sold                      0\n",
       "dtype: int64"
      ]
     },
     "execution_count": 8,
     "metadata": {},
     "output_type": "execute_result"
    }
   ],
   "source": [
    "data.isna().sum()"
   ]
  },
  {
   "cell_type": "code",
   "execution_count": 9,
   "metadata": {},
   "outputs": [
    {
     "data": {
      "text/plain": [
       "BuyItNow                0.000000\n",
       "startprice              0.000000\n",
       "carrier                 0.206061\n",
       "color                   0.399327\n",
       "productline             0.000000\n",
       "noDescription           0.000000\n",
       "charCountDescription    0.000000\n",
       "upperCaseDescription    0.000000\n",
       "sold                    0.000000\n",
       "dtype: float64"
      ]
     },
     "execution_count": 9,
     "metadata": {},
     "output_type": "execute_result"
    }
   ],
   "source": [
    "data.isna().sum() / len(data)     # 전체 데이터 중 결측치가 차지하는 비중"
   ]
  },
  {
   "cell_type": "code",
   "execution_count": 10,
   "metadata": {},
   "outputs": [
    {
     "data": {
      "text/html": [
       "<div>\n",
       "<style scoped>\n",
       "    .dataframe tbody tr th:only-of-type {\n",
       "        vertical-align: middle;\n",
       "    }\n",
       "\n",
       "    .dataframe tbody tr th {\n",
       "        vertical-align: top;\n",
       "    }\n",
       "\n",
       "    .dataframe thead th {\n",
       "        text-align: right;\n",
       "    }\n",
       "</style>\n",
       "<table border=\"1\" class=\"dataframe\">\n",
       "  <thead>\n",
       "    <tr style=\"text-align: right;\">\n",
       "      <th></th>\n",
       "      <th>BuyItNow</th>\n",
       "      <th>startprice</th>\n",
       "      <th>carrier</th>\n",
       "      <th>color</th>\n",
       "      <th>productline</th>\n",
       "      <th>noDescription</th>\n",
       "      <th>charCountDescription</th>\n",
       "      <th>upperCaseDescription</th>\n",
       "      <th>sold</th>\n",
       "    </tr>\n",
       "  </thead>\n",
       "  <tbody>\n",
       "    <tr>\n",
       "      <th>0</th>\n",
       "      <td>0</td>\n",
       "      <td>199.99</td>\n",
       "      <td>None</td>\n",
       "      <td>White</td>\n",
       "      <td>Galaxy_S9</td>\n",
       "      <td>contains description</td>\n",
       "      <td>0</td>\n",
       "      <td>0</td>\n",
       "      <td>1</td>\n",
       "    </tr>\n",
       "    <tr>\n",
       "      <th>1</th>\n",
       "      <td>0</td>\n",
       "      <td>235.00</td>\n",
       "      <td>None</td>\n",
       "      <td>Unknown</td>\n",
       "      <td>Galaxy_Note9</td>\n",
       "      <td>contains description</td>\n",
       "      <td>0</td>\n",
       "      <td>0</td>\n",
       "      <td>0</td>\n",
       "    </tr>\n",
       "    <tr>\n",
       "      <th>2</th>\n",
       "      <td>0</td>\n",
       "      <td>199.99</td>\n",
       "      <td>Unknown</td>\n",
       "      <td>Unknown</td>\n",
       "      <td>Unknown</td>\n",
       "      <td>no description</td>\n",
       "      <td>100</td>\n",
       "      <td>2</td>\n",
       "      <td>0</td>\n",
       "    </tr>\n",
       "    <tr>\n",
       "      <th>3</th>\n",
       "      <td>1</td>\n",
       "      <td>175.00</td>\n",
       "      <td>AT&amp;T</td>\n",
       "      <td>Space Gray</td>\n",
       "      <td>Galaxy_Note9</td>\n",
       "      <td>contains description</td>\n",
       "      <td>0</td>\n",
       "      <td>0</td>\n",
       "      <td>1</td>\n",
       "    </tr>\n",
       "    <tr>\n",
       "      <th>4</th>\n",
       "      <td>1</td>\n",
       "      <td>100.00</td>\n",
       "      <td>None</td>\n",
       "      <td>Space Gray</td>\n",
       "      <td>Galaxy_S8</td>\n",
       "      <td>contains description</td>\n",
       "      <td>0</td>\n",
       "      <td>0</td>\n",
       "      <td>1</td>\n",
       "    </tr>\n",
       "  </tbody>\n",
       "</table>\n",
       "</div>"
      ],
      "text/plain": [
       "   BuyItNow  startprice  carrier       color   productline  \\\n",
       "0         0      199.99     None       White     Galaxy_S9   \n",
       "1         0      235.00     None     Unknown  Galaxy_Note9   \n",
       "2         0      199.99  Unknown     Unknown       Unknown   \n",
       "3         1      175.00     AT&T  Space Gray  Galaxy_Note9   \n",
       "4         1      100.00     None  Space Gray     Galaxy_S8   \n",
       "\n",
       "          noDescription  charCountDescription  upperCaseDescription  sold  \n",
       "0  contains description                     0                     0     1  \n",
       "1  contains description                     0                     0     0  \n",
       "2        no description                   100                     2     0  \n",
       "3  contains description                     0                     0     1  \n",
       "4  contains description                     0                     0     1  "
      ]
     },
     "execution_count": 10,
     "metadata": {},
     "output_type": "execute_result"
    }
   ],
   "source": [
    "data = data.fillna('Unknown')     # 결측치가 있는 칼럼이 문자형이므로 평균이나 중앙값이 아닌 unknown으로 채움\n",
    "data.head()"
   ]
  },
  {
   "cell_type": "code",
   "execution_count": 12,
   "metadata": {},
   "outputs": [
    {
     "data": {
      "text/plain": [
       "None               863\n",
       "Unknown            306\n",
       "AT&T               177\n",
       "Verizon             87\n",
       "Sprint/T-Mobile     52\n",
       "Name: carrier, dtype: int64"
      ]
     },
     "execution_count": 12,
     "metadata": {},
     "output_type": "execute_result"
    }
   ],
   "source": [
    "data['carrier'].value_counts()"
   ]
  },
  {
   "cell_type": "markdown",
   "metadata": {},
   "source": [
    "## 4. 카테고리 변수 처리"
   ]
  },
  {
   "cell_type": "code",
   "execution_count": 13,
   "metadata": {},
   "outputs": [
    {
     "data": {
      "text/plain": [
       "carrier          5\n",
       "color            8\n",
       "productline      8\n",
       "noDescription    2\n",
       "dtype: int64"
      ]
     },
     "execution_count": 13,
     "metadata": {},
     "output_type": "execute_result"
    }
   ],
   "source": [
    "data[['carrier', 'color', 'productline', 'noDescription']].nunique()     # 각 칼럼의 구성 확인"
   ]
  },
  {
   "cell_type": "code",
   "execution_count": 14,
   "metadata": {},
   "outputs": [
    {
     "data": {
      "text/plain": [
       "Galaxy_Note10    351\n",
       "Galaxy_S8        277\n",
       "Galaxy_S7        227\n",
       "Unknown          204\n",
       "Galaxy_S9        158\n",
       "Galaxy_Note8     153\n",
       "Galaxy_Note9     107\n",
       "Galaxy_S10         8\n",
       "Name: productline, dtype: int64"
      ]
     },
     "execution_count": 14,
     "metadata": {},
     "output_type": "execute_result"
    }
   ],
   "source": [
    "data['productline'].value_counts()"
   ]
  },
  {
   "cell_type": "code",
   "execution_count": 15,
   "metadata": {},
   "outputs": [
    {
     "data": {
      "text/plain": [
       "contains description    856\n",
       "no description          629\n",
       "Name: noDescription, dtype: int64"
      ]
     },
     "execution_count": 15,
     "metadata": {},
     "output_type": "execute_result"
    }
   ],
   "source": [
    "data['noDescription'].value_counts()"
   ]
  },
  {
   "cell_type": "code",
   "execution_count": 16,
   "metadata": {},
   "outputs": [
    {
     "data": {
      "text/plain": [
       "None               863\n",
       "Unknown            306\n",
       "AT&T               177\n",
       "Verizon             87\n",
       "Sprint/T-Mobile     52\n",
       "Name: carrier, dtype: int64"
      ]
     },
     "execution_count": 16,
     "metadata": {},
     "output_type": "execute_result"
    }
   ],
   "source": [
    "data['carrier'].value_counts()     # carrier칼럼의 구성성분이 어떤 것이 있고 각각 몇개씩 있는지 확인"
   ]
  },
  {
   "cell_type": "code",
   "execution_count": 17,
   "metadata": {},
   "outputs": [
    {
     "data": {
      "text/plain": [
       "Unknown           593\n",
       "White             328\n",
       "Midnight Black    274\n",
       "Space Gray        180\n",
       "Gold               52\n",
       "Black              38\n",
       "Aura Black         19\n",
       "Prism Black         1\n",
       "Name: color, dtype: int64"
      ]
     },
     "execution_count": 17,
     "metadata": {},
     "output_type": "execute_result"
    }
   ],
   "source": [
    "data['color'].value_counts()"
   ]
  },
  {
   "cell_type": "markdown",
   "metadata": {},
   "source": [
    "- color 칼럼의 Midnight Black, Black, Aura Black, Prism Black 모두 Black으로 통일"
   ]
  },
  {
   "cell_type": "code",
   "execution_count": 18,
   "metadata": {},
   "outputs": [],
   "source": [
    "# color 칼럼의 black 종류를 하나로 통합시켜줄 함수 - 첫번째 방법\n",
    "\n",
    "def black(x):\n",
    "    if (x == 'Midnight Black') | (x == 'Aura Black') | (x == 'Prism Black'):\n",
    "        return 'Black'\n",
    "    else:\n",
    "        return x"
   ]
  },
  {
   "cell_type": "code",
   "execution_count": 19,
   "metadata": {},
   "outputs": [],
   "source": [
    "# color 칼럼의 black 종류를 하나로 통합시켜줄 함수 - 두번째 방법(위 코드와 결과 동일)\n",
    "\n",
    "def black(x):\n",
    "    if x in ['Midnight Black', 'Aura Black', 'Prism Black']:\n",
    "        return 'Black'\n",
    "    else:\n",
    "        return x"
   ]
  },
  {
   "cell_type": "code",
   "execution_count": 20,
   "metadata": {},
   "outputs": [],
   "source": [
    "# color칼럼에 black 함수 적용(apply와 lambda 활용)\n",
    "\n",
    "data['color'] = data['color'].apply(lambda x: black(x))"
   ]
  },
  {
   "cell_type": "code",
   "execution_count": 21,
   "metadata": {},
   "outputs": [
    {
     "data": {
      "text/plain": [
       "Unknown       593\n",
       "Black         332\n",
       "White         328\n",
       "Space Gray    180\n",
       "Gold           52\n",
       "Name: color, dtype: int64"
      ]
     },
     "execution_count": 21,
     "metadata": {},
     "output_type": "execute_result"
    }
   ],
   "source": [
    "data['color'].value_counts()"
   ]
  },
  {
   "cell_type": "code",
   "execution_count": 22,
   "metadata": {},
   "outputs": [
    {
     "data": {
      "text/html": [
       "<div>\n",
       "<style scoped>\n",
       "    .dataframe tbody tr th:only-of-type {\n",
       "        vertical-align: middle;\n",
       "    }\n",
       "\n",
       "    .dataframe tbody tr th {\n",
       "        vertical-align: top;\n",
       "    }\n",
       "\n",
       "    .dataframe thead th {\n",
       "        text-align: right;\n",
       "    }\n",
       "</style>\n",
       "<table border=\"1\" class=\"dataframe\">\n",
       "  <thead>\n",
       "    <tr style=\"text-align: right;\">\n",
       "      <th></th>\n",
       "      <th>BuyItNow</th>\n",
       "      <th>startprice</th>\n",
       "      <th>charCountDescription</th>\n",
       "      <th>upperCaseDescription</th>\n",
       "      <th>sold</th>\n",
       "      <th>carrier_AT&amp;T</th>\n",
       "      <th>carrier_None</th>\n",
       "      <th>carrier_Sprint/T-Mobile</th>\n",
       "      <th>carrier_Unknown</th>\n",
       "      <th>carrier_Verizon</th>\n",
       "      <th>...</th>\n",
       "      <th>productline_Galaxy_Note10</th>\n",
       "      <th>productline_Galaxy_Note8</th>\n",
       "      <th>productline_Galaxy_Note9</th>\n",
       "      <th>productline_Galaxy_S10</th>\n",
       "      <th>productline_Galaxy_S7</th>\n",
       "      <th>productline_Galaxy_S8</th>\n",
       "      <th>productline_Galaxy_S9</th>\n",
       "      <th>productline_Unknown</th>\n",
       "      <th>noDescription_contains description</th>\n",
       "      <th>noDescription_no description</th>\n",
       "    </tr>\n",
       "  </thead>\n",
       "  <tbody>\n",
       "    <tr>\n",
       "      <th>0</th>\n",
       "      <td>0</td>\n",
       "      <td>199.99</td>\n",
       "      <td>0</td>\n",
       "      <td>0</td>\n",
       "      <td>1</td>\n",
       "      <td>0</td>\n",
       "      <td>1</td>\n",
       "      <td>0</td>\n",
       "      <td>0</td>\n",
       "      <td>0</td>\n",
       "      <td>...</td>\n",
       "      <td>0</td>\n",
       "      <td>0</td>\n",
       "      <td>0</td>\n",
       "      <td>0</td>\n",
       "      <td>0</td>\n",
       "      <td>0</td>\n",
       "      <td>1</td>\n",
       "      <td>0</td>\n",
       "      <td>1</td>\n",
       "      <td>0</td>\n",
       "    </tr>\n",
       "    <tr>\n",
       "      <th>1</th>\n",
       "      <td>0</td>\n",
       "      <td>235.00</td>\n",
       "      <td>0</td>\n",
       "      <td>0</td>\n",
       "      <td>0</td>\n",
       "      <td>0</td>\n",
       "      <td>1</td>\n",
       "      <td>0</td>\n",
       "      <td>0</td>\n",
       "      <td>0</td>\n",
       "      <td>...</td>\n",
       "      <td>0</td>\n",
       "      <td>0</td>\n",
       "      <td>1</td>\n",
       "      <td>0</td>\n",
       "      <td>0</td>\n",
       "      <td>0</td>\n",
       "      <td>0</td>\n",
       "      <td>0</td>\n",
       "      <td>1</td>\n",
       "      <td>0</td>\n",
       "    </tr>\n",
       "    <tr>\n",
       "      <th>2</th>\n",
       "      <td>0</td>\n",
       "      <td>199.99</td>\n",
       "      <td>100</td>\n",
       "      <td>2</td>\n",
       "      <td>0</td>\n",
       "      <td>0</td>\n",
       "      <td>0</td>\n",
       "      <td>0</td>\n",
       "      <td>1</td>\n",
       "      <td>0</td>\n",
       "      <td>...</td>\n",
       "      <td>0</td>\n",
       "      <td>0</td>\n",
       "      <td>0</td>\n",
       "      <td>0</td>\n",
       "      <td>0</td>\n",
       "      <td>0</td>\n",
       "      <td>0</td>\n",
       "      <td>1</td>\n",
       "      <td>0</td>\n",
       "      <td>1</td>\n",
       "    </tr>\n",
       "    <tr>\n",
       "      <th>3</th>\n",
       "      <td>1</td>\n",
       "      <td>175.00</td>\n",
       "      <td>0</td>\n",
       "      <td>0</td>\n",
       "      <td>1</td>\n",
       "      <td>1</td>\n",
       "      <td>0</td>\n",
       "      <td>0</td>\n",
       "      <td>0</td>\n",
       "      <td>0</td>\n",
       "      <td>...</td>\n",
       "      <td>0</td>\n",
       "      <td>0</td>\n",
       "      <td>1</td>\n",
       "      <td>0</td>\n",
       "      <td>0</td>\n",
       "      <td>0</td>\n",
       "      <td>0</td>\n",
       "      <td>0</td>\n",
       "      <td>1</td>\n",
       "      <td>0</td>\n",
       "    </tr>\n",
       "    <tr>\n",
       "      <th>4</th>\n",
       "      <td>1</td>\n",
       "      <td>100.00</td>\n",
       "      <td>0</td>\n",
       "      <td>0</td>\n",
       "      <td>1</td>\n",
       "      <td>0</td>\n",
       "      <td>1</td>\n",
       "      <td>0</td>\n",
       "      <td>0</td>\n",
       "      <td>0</td>\n",
       "      <td>...</td>\n",
       "      <td>0</td>\n",
       "      <td>0</td>\n",
       "      <td>0</td>\n",
       "      <td>0</td>\n",
       "      <td>0</td>\n",
       "      <td>1</td>\n",
       "      <td>0</td>\n",
       "      <td>0</td>\n",
       "      <td>1</td>\n",
       "      <td>0</td>\n",
       "    </tr>\n",
       "  </tbody>\n",
       "</table>\n",
       "<p>5 rows × 25 columns</p>\n",
       "</div>"
      ],
      "text/plain": [
       "   BuyItNow  startprice  charCountDescription  upperCaseDescription  sold  \\\n",
       "0         0      199.99                     0                     0     1   \n",
       "1         0      235.00                     0                     0     0   \n",
       "2         0      199.99                   100                     2     0   \n",
       "3         1      175.00                     0                     0     1   \n",
       "4         1      100.00                     0                     0     1   \n",
       "\n",
       "   carrier_AT&T  carrier_None  carrier_Sprint/T-Mobile  carrier_Unknown  \\\n",
       "0             0             1                        0                0   \n",
       "1             0             1                        0                0   \n",
       "2             0             0                        0                1   \n",
       "3             1             0                        0                0   \n",
       "4             0             1                        0                0   \n",
       "\n",
       "   carrier_Verizon  ...  productline_Galaxy_Note10  productline_Galaxy_Note8  \\\n",
       "0                0  ...                          0                         0   \n",
       "1                0  ...                          0                         0   \n",
       "2                0  ...                          0                         0   \n",
       "3                0  ...                          0                         0   \n",
       "4                0  ...                          0                         0   \n",
       "\n",
       "   productline_Galaxy_Note9  productline_Galaxy_S10  productline_Galaxy_S7  \\\n",
       "0                         0                       0                      0   \n",
       "1                         1                       0                      0   \n",
       "2                         0                       0                      0   \n",
       "3                         1                       0                      0   \n",
       "4                         0                       0                      0   \n",
       "\n",
       "   productline_Galaxy_S8  productline_Galaxy_S9  productline_Unknown  \\\n",
       "0                      0                      1                    0   \n",
       "1                      0                      0                    0   \n",
       "2                      0                      0                    1   \n",
       "3                      0                      0                    0   \n",
       "4                      1                      0                    0   \n",
       "\n",
       "   noDescription_contains description  noDescription_no description  \n",
       "0                                   1                             0  \n",
       "1                                   1                             0  \n",
       "2                                   0                             1  \n",
       "3                                   1                             0  \n",
       "4                                   1                             0  \n",
       "\n",
       "[5 rows x 25 columns]"
      ]
     },
     "execution_count": 22,
     "metadata": {},
     "output_type": "execute_result"
    }
   ],
   "source": [
    "# 카테고리 변수들 더미변수로 만들기\n",
    "\n",
    "data = pd.get_dummies(data, columns = ['carrier', 'color', 'productline', 'noDescription'])     # ,drop_first = True 해주는 것이 좋음\n",
    "data.head()"
   ]
  },
  {
   "cell_type": "markdown",
   "metadata": {},
   "source": [
    "## 5. decision tree 모델 만들기"
   ]
  },
  {
   "cell_type": "code",
   "execution_count": 23,
   "metadata": {},
   "outputs": [],
   "source": [
    "from sklearn.model_selection import train_test_split"
   ]
  },
  {
   "cell_type": "code",
   "execution_count": 24,
   "metadata": {},
   "outputs": [],
   "source": [
    "X = data.drop('sold', axis = 1)\n",
    "y = data['sold']"
   ]
  },
  {
   "cell_type": "code",
   "execution_count": 25,
   "metadata": {},
   "outputs": [],
   "source": [
    "X_train, X_test, y_train, y_test = train_test_split(X, y, test_size = 0.2, random_state = 100)"
   ]
  },
  {
   "cell_type": "code",
   "execution_count": 26,
   "metadata": {},
   "outputs": [],
   "source": [
    "from sklearn.tree import DecisionTreeClassifier"
   ]
  },
  {
   "cell_type": "code",
   "execution_count": 27,
   "metadata": {},
   "outputs": [],
   "source": [
    "model = DecisionTreeClassifier(max_depth = 100)     # 나무 깊이 설정"
   ]
  },
  {
   "cell_type": "code",
   "execution_count": 28,
   "metadata": {},
   "outputs": [
    {
     "data": {
      "text/plain": [
       "DecisionTreeClassifier(ccp_alpha=0.0, class_weight=None, criterion='gini',\n",
       "                       max_depth=100, max_features=None, max_leaf_nodes=None,\n",
       "                       min_impurity_decrease=0.0, min_impurity_split=None,\n",
       "                       min_samples_leaf=1, min_samples_split=2,\n",
       "                       min_weight_fraction_leaf=0.0, presort='deprecated',\n",
       "                       random_state=None, splitter='best')"
      ]
     },
     "execution_count": 28,
     "metadata": {},
     "output_type": "execute_result"
    }
   ],
   "source": [
    "model.fit(X_train, y_train)"
   ]
  },
  {
   "cell_type": "markdown",
   "metadata": {},
   "source": [
    "## 6. 예측"
   ]
  },
  {
   "cell_type": "code",
   "execution_count": 29,
   "metadata": {},
   "outputs": [
    {
     "data": {
      "text/plain": [
       "array([1, 1, 1, 1, 0, 0, 0, 1, 0, 0, 1, 1, 1, 1, 0, 1, 0, 0, 1, 1, 1, 1,\n",
       "       1, 1, 0, 0, 0, 0, 0, 0, 0, 1, 1, 0, 0, 0, 0, 1, 0, 1, 0, 0, 1, 1,\n",
       "       1, 1, 0, 1, 1, 0, 1, 0, 0, 1, 1, 0, 0, 1, 0, 0, 1, 0, 1, 0, 0, 1,\n",
       "       1, 0, 0, 1, 0, 1, 0, 1, 1, 1, 0, 0, 1, 0, 0, 1, 0, 1, 0, 0, 0, 0,\n",
       "       1, 1, 1, 1, 0, 1, 1, 0, 0, 1, 1, 0, 0, 1, 1, 1, 0, 0, 1, 1, 1, 0,\n",
       "       1, 0, 0, 0, 1, 0, 0, 0, 1, 0, 0, 0, 1, 1, 1, 0, 0, 1, 0, 0, 1, 0,\n",
       "       0, 1, 0, 1, 1, 0, 0, 0, 0, 1, 1, 1, 0, 0, 1, 1, 0, 1, 0, 0, 1, 0,\n",
       "       0, 0, 1, 0, 1, 0, 0, 0, 1, 0, 1, 0, 0, 1, 1, 1, 1, 0, 0, 1, 1, 1,\n",
       "       0, 0, 0, 1, 1, 0, 0, 0, 0, 0, 0, 0, 1, 1, 0, 0, 1, 1, 1, 0, 1, 0,\n",
       "       0, 1, 0, 1, 0, 0, 0, 1, 1, 0, 0, 1, 0, 1, 1, 1, 1, 1, 1, 0, 1, 0,\n",
       "       0, 0, 0, 0, 1, 0, 1, 1, 0, 0, 0, 1, 1, 1, 1, 1, 0, 1, 0, 0, 0, 1,\n",
       "       1, 1, 0, 1, 0, 0, 0, 0, 0, 0, 0, 0, 0, 0, 1, 1, 0, 0, 1, 0, 1, 0,\n",
       "       1, 0, 1, 0, 0, 1, 0, 1, 0, 1, 1, 1, 0, 0, 1, 1, 0, 0, 0, 1, 0, 1,\n",
       "       0, 0, 0, 1, 0, 0, 0, 1, 0, 1, 0], dtype=int64)"
      ]
     },
     "execution_count": 29,
     "metadata": {},
     "output_type": "execute_result"
    }
   ],
   "source": [
    "pred = model.predict(X_test)\n",
    "pred"
   ]
  },
  {
   "cell_type": "code",
   "execution_count": 30,
   "metadata": {},
   "outputs": [
    {
     "data": {
      "text/plain": [
       "258     1\n",
       "57      0\n",
       "225     1\n",
       "704     0\n",
       "1096    0\n",
       "       ..\n",
       "44      0\n",
       "1399    1\n",
       "1035    0\n",
       "259     1\n",
       "532     1\n",
       "Name: sold, Length: 297, dtype: int64"
      ]
     },
     "execution_count": 30,
     "metadata": {},
     "output_type": "execute_result"
    }
   ],
   "source": [
    "y_test"
   ]
  },
  {
   "cell_type": "markdown",
   "metadata": {},
   "source": [
    "## 7. 평가"
   ]
  },
  {
   "cell_type": "code",
   "execution_count": 31,
   "metadata": {},
   "outputs": [],
   "source": [
    "from sklearn.metrics import accuracy_score, confusion_matrix"
   ]
  },
  {
   "cell_type": "code",
   "execution_count": 32,
   "metadata": {},
   "outputs": [
    {
     "data": {
      "text/plain": [
       "0.7643097643097643"
      ]
     },
     "execution_count": 32,
     "metadata": {},
     "output_type": "execute_result"
    }
   ],
   "source": [
    "accuracy_score(y_test, pred)"
   ]
  },
  {
   "cell_type": "markdown",
   "metadata": {},
   "source": [
    "* 76% 정도의 정답률"
   ]
  },
  {
   "cell_type": "markdown",
   "metadata": {},
   "source": [
    "## 8. 최적의 Max Depth 찾기(파라미터 튜닝)"
   ]
  },
  {
   "cell_type": "code",
   "execution_count": 33,
   "metadata": {},
   "outputs": [
    {
     "name": "stdout",
     "output_type": "stream",
     "text": [
      "2 0.8182\n",
      "3 0.8316\n",
      "4 0.8316\n",
      "5 0.8249\n",
      "6 0.8081\n",
      "7 0.8182\n",
      "8 0.7912\n",
      "9 0.8114\n",
      "10 0.798\n",
      "11 0.7879\n",
      "12 0.7845\n",
      "13 0.7744\n",
      "14 0.7609\n",
      "15 0.7811\n",
      "16 0.7643\n",
      "17 0.7508\n",
      "18 0.7508\n",
      "19 0.7508\n",
      "20 0.7542\n",
      "21 0.7475\n",
      "22 0.734\n",
      "23 0.7475\n",
      "24 0.7576\n",
      "25 0.7542\n",
      "26 0.7441\n",
      "27 0.7609\n",
      "28 0.7609\n",
      "29 0.7441\n",
      "30 0.7508\n"
     ]
    }
   ],
   "source": [
    "for i in range(2, 31):\n",
    "    model = DecisionTreeClassifier(max_depth = i)\n",
    "    model.fit(X_train, y_train)\n",
    "    pred = model.predict(X_test)\n",
    "    print(i, round(accuracy_score(y_test, pred), 4))     # 소수점 4째자리까지 반올림"
   ]
  },
  {
   "cell_type": "markdown",
   "metadata": {},
   "source": [
    "* i가 3일때 가장 높은 accuracy_score를 보임"
   ]
  },
  {
   "cell_type": "markdown",
   "metadata": {},
   "source": [
    "## 9. 최적의 Max Depth를 사용하여 다시 모델링하고 평가하기"
   ]
  },
  {
   "cell_type": "code",
   "execution_count": 34,
   "metadata": {},
   "outputs": [],
   "source": [
    "model = DecisionTreeClassifier(max_depth = 3)\n",
    "model.fit(X_train, y_train)\n",
    "pred = model.predict(X_test)"
   ]
  },
  {
   "cell_type": "code",
   "execution_count": 35,
   "metadata": {},
   "outputs": [
    {
     "data": {
      "text/plain": [
       "0.8316498316498316"
      ]
     },
     "execution_count": 35,
     "metadata": {},
     "output_type": "execute_result"
    }
   ],
   "source": [
    "accuracy_score(y_test, pred)"
   ]
  },
  {
   "cell_type": "markdown",
   "metadata": {},
   "source": [
    "* 정확도 83%"
   ]
  },
  {
   "cell_type": "code",
   "execution_count": 36,
   "metadata": {},
   "outputs": [
    {
     "data": {
      "text/plain": [
       "array([[151,  10],\n",
       "       [ 40,  96]], dtype=int64)"
      ]
     },
     "execution_count": 36,
     "metadata": {},
     "output_type": "execute_result"
    }
   ],
   "source": [
    "confusion_matrix(y_test, pred)"
   ]
  },
  {
   "cell_type": "markdown",
   "metadata": {},
   "source": [
    "## 10. tree plot 만들기"
   ]
  },
  {
   "cell_type": "code",
   "execution_count": 37,
   "metadata": {},
   "outputs": [],
   "source": [
    "from sklearn.tree import plot_tree"
   ]
  },
  {
   "cell_type": "code",
   "execution_count": 38,
   "metadata": {},
   "outputs": [
    {
     "data": {
      "text/plain": [
       "[Text(558.0, 475.65000000000003, 'BuyItNow <= 0.5\\ngini = 0.497\\nsamples = 1188\\nvalue = [638, 550]'),\n",
       " Text(279.0, 339.75, 'startprice <= 208.495\\ngini = 0.357\\nsamples = 659\\nvalue = [506, 153]'),\n",
       " Text(139.5, 203.85000000000002, 'productline_Galaxy_S9 <= 0.5\\ngini = 0.442\\nsamples = 240\\nvalue = [161, 79]'),\n",
       " Text(69.75, 67.94999999999999, '\\n  (...)  \\n'),\n",
       " Text(209.25, 67.94999999999999, '\\n  (...)  \\n'),\n",
       " Text(418.5, 203.85000000000002, 'upperCaseDescription <= 5.5\\ngini = 0.291\\nsamples = 419\\nvalue = [345, 74]'),\n",
       " Text(348.75, 67.94999999999999, '\\n  (...)  \\n'),\n",
       " Text(488.25, 67.94999999999999, '\\n  (...)  \\n'),\n",
       " Text(837.0, 339.75, 'startprice <= 142.475\\ngini = 0.375\\nsamples = 529\\nvalue = [132, 397]'),\n",
       " Text(697.5, 203.85000000000002, 'startprice <= 59.995\\ngini = 0.216\\nsamples = 332\\nvalue = [41, 291]'),\n",
       " Text(627.75, 67.94999999999999, '\\n  (...)  \\n'),\n",
       " Text(767.25, 67.94999999999999, '\\n  (...)  \\n'),\n",
       " Text(976.5, 203.85000000000002, 'productline_Galaxy_Note10 <= 0.5\\ngini = 0.497\\nsamples = 197\\nvalue = [91, 106]'),\n",
       " Text(906.75, 67.94999999999999, '\\n  (...)  \\n'),\n",
       " Text(1046.25, 67.94999999999999, '\\n  (...)  \\n')]"
      ]
     },
     "execution_count": 38,
     "metadata": {},
     "output_type": "execute_result"
    },
    {
     "data": {
      "image/png": "[encoded data removed]",
      "text/plain": [
       "<Figure size 1440x720 with 1 Axes>"
      ]
     },
     "metadata": {
      "needs_background": "light"
     },
     "output_type": "display_data"
    }
   ],
   "source": [
    "plt.figure(figsize = (20, 10))\n",
    "plot_tree(model, feature_names = X_train.columns, fontsize = 15, max_depth = 2)     "
   ]
  },
  {
   "cell_type": "code",
   "execution_count": 39,
   "metadata": {},
   "outputs": [
    {
     "data": {
      "text/plain": [
       "[Text(558.0, 475.65000000000003, 'BuyItNow <= 0.5\\n0.497\\n1188\\n[638, 550]'),\n",
       " Text(279.0, 339.75, 'startprice <= 208.495\\n0.357\\n659\\n[506, 153]'),\n",
       " Text(139.5, 203.85000000000002, 'productline_Galaxy_S9 <= 0.5\\n0.442\\n240\\n[161, 79]'),\n",
       " Text(69.75, 67.94999999999999, '\\n  (...)  \\n'),\n",
       " Text(209.25, 67.94999999999999, '\\n  (...)  \\n'),\n",
       " Text(418.5, 203.85000000000002, 'upperCaseDescription <= 5.5\\n0.291\\n419\\n[345, 74]'),\n",
       " Text(348.75, 67.94999999999999, '\\n  (...)  \\n'),\n",
       " Text(488.25, 67.94999999999999, '\\n  (...)  \\n'),\n",
       " Text(837.0, 339.75, 'startprice <= 142.475\\n0.375\\n529\\n[132, 397]'),\n",
       " Text(697.5, 203.85000000000002, 'startprice <= 59.995\\n0.216\\n332\\n[41, 291]'),\n",
       " Text(627.75, 67.94999999999999, '\\n  (...)  \\n'),\n",
       " Text(767.25, 67.94999999999999, '\\n  (...)  \\n'),\n",
       " Text(976.5, 203.85000000000002, 'productline_Galaxy_Note10 <= 0.5\\n0.497\\n197\\n[91, 106]'),\n",
       " Text(906.75, 67.94999999999999, '\\n  (...)  \\n'),\n",
       " Text(1046.25, 67.94999999999999, '\\n  (...)  \\n')]"
      ]
     },
     "execution_count": 39,
     "metadata": {},
     "output_type": "execute_result"
    },
    {
     "data": {
      "image/png": "[encoded data removed]",
      "text/plain": [
       "<Figure size 1440x720 with 1 Axes>"
      ]
     },
     "metadata": {
      "needs_background": "light"
     },
     "output_type": "display_data"
    }
   ],
   "source": [
    "plt.figure(figsize = (20, 10))\n",
    "plot_tree(model, feature_names = X_train.columns, fontsize = 15, label = 'None', max_depth = 2)\n",
    "# label은 노드 안에 gini, samples, value 글자 지우는 것."
   ]
  },
  {
   "cell_type": "markdown",
   "metadata": {},
   "source": [
    "# Decision Tree VS Logistic Regression\n",
    "\n",
    "Decision Tree|Logistic Regression\n",
    "-|-\n",
    "Non Parametric | Parametric\n",
    "Feature Power X | Feature Power O\n",
    "Categorical Value O | Categorical Value X"
   ]
  }
 ],
 "metadata": {
  "kernelspec": {
   "display_name": "Python 3",
   "language": "python",
   "name": "python3"
  },
  "language_info": {
   "codemirror_mode": {
    "name": "ipython",
    "version": 3
   },
   "file_extension": ".py",
   "mimetype": "text/x-python",
   "name": "python",
   "nbconvert_exporter": "python",
   "pygments_lexer": "ipython3",
   "version": "3.7.6"
  }
 },
 "nbformat": 4,
 "nbformat_minor": 4
}
