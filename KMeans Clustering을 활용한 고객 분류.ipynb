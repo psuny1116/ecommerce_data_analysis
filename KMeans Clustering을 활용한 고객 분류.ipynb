{
 "cells": [
  {
   "cell_type": "markdown",
   "id": "9c7d3de3",
   "metadata": {},
   "source": [
    "# KMeans Clustering을 활용하여 데이터 기반의 고객 segment 분류"
   ]
  },
  {
   "cell_type": "markdown",
   "id": "bd78d4aa",
   "metadata": {},
   "source": [
    "# 1. 랜덤 데이터 생성해서 kmeans clustering"
   ]
  },
  {
   "cell_type": "markdown",
   "id": "94251310",
   "metadata": {},
   "source": [
    "## 1. 모듈 로딩 및 랜덤 데이터 생성"
   ]
  },
  {
   "cell_type": "code",
   "execution_count": 1,
   "id": "9017dabd",
   "metadata": {},
   "outputs": [],
   "source": [
    "import pandas as pd\n",
    "import numpy as np\n",
    "import matplotlib.pyplot as plt\n",
    "import seaborn as sns"
   ]
  },
  {
   "cell_type": "code",
   "execution_count": 2,
   "id": "4240606f",
   "metadata": {},
   "outputs": [],
   "source": [
    "from sklearn.datasets import make_blobs     # 데이터 생성"
   ]
  },
  {
   "cell_type": "code",
   "execution_count": 3,
   "id": "16152562",
   "metadata": {},
   "outputs": [
    {
     "data": {
      "text/plain": [
       "(array([[-1.04541152e+01, -7.62125255e+00],\n",
       "        [-1.00696483e+01, -6.35203699e+00],\n",
       "        [-9.72925240e+00, -8.44434843e+00],\n",
       "        [-9.53601173e+00, -8.04924975e+00],\n",
       "        [-3.00736857e+00,  5.70163667e+00],\n",
       "        [-1.00825197e+01, -7.06157008e+00],\n",
       "        [ 1.48356884e+00,  6.54127044e+00],\n",
       "        [ 1.36630977e+00,  7.30084118e+00],\n",
       "        [-6.15050479e-01,  7.65521577e+00],\n",
       "        [-2.13385599e-01,  7.84779827e+00],\n",
       "        [ 3.36818459e-01, -3.40287961e+00],\n",
       "        [-1.37722038e+00,  6.91773657e+00],\n",
       "        [-1.08726796e+00,  5.80147972e+00],\n",
       "        [-1.63584937e+00,  8.88579630e+00],\n",
       "        [-7.62592530e-01,  7.32519908e+00],\n",
       "        [-1.93336328e+00,  5.70953908e+00],\n",
       "        [-9.51418426e+00, -7.24137223e+00],\n",
       "        [-9.86650380e-01,  6.87917724e+00],\n",
       "        [-9.37825374e+00, -7.94292047e+00],\n",
       "        [ 2.66345400e-01,  7.40859703e+00],\n",
       "        [-1.20385333e+01, -6.80941325e+00],\n",
       "        [-9.20343837e+00, -8.85252239e+00],\n",
       "        [ 4.10071850e-01, -3.99744881e+00],\n",
       "        [ 2.25174587e+00,  6.49587933e+00],\n",
       "        [ 7.92075370e-01, -4.42865470e+00],\n",
       "        [ 5.41860777e-01, -4.37693628e+00],\n",
       "        [-7.56585997e-01,  5.28608375e+00],\n",
       "        [-8.95266345e+00, -8.55198023e+00],\n",
       "        [-1.68442974e+00,  7.91278699e+00],\n",
       "        [ 1.48113772e+00, -3.69640708e+00],\n",
       "        [ 8.75413399e-01, -5.04555103e+00],\n",
       "        [ 3.00989843e+00,  7.05349904e+00],\n",
       "        [ 9.76962304e-01, -3.92480271e+00],\n",
       "        [-9.94328955e+00, -6.73708455e+00],\n",
       "        [-9.79380030e+00, -5.02918555e+00],\n",
       "        [-1.37939973e+00,  7.84488351e+00],\n",
       "        [-2.10521664e+00, -4.39929502e+00],\n",
       "        [ 4.29963213e-01, -5.55093054e+00],\n",
       "        [-1.01724010e+01, -8.42467961e+00],\n",
       "        [-1.40787241e+00,  8.20386947e+00],\n",
       "        [-8.86329013e+00, -6.46974160e+00],\n",
       "        [-1.17867375e+01, -7.38627486e+00],\n",
       "        [ 2.70003492e+00, -4.42959486e+00],\n",
       "        [ 3.74018799e+00,  5.86277425e+00],\n",
       "        [ 9.76970826e-01, -4.40432866e+00],\n",
       "        [ 3.53853432e+00,  8.06478420e+00],\n",
       "        [-1.36995537e-02, -4.41397335e+00],\n",
       "        [-2.21406638e+00,  6.30414753e+00],\n",
       "        [ 1.54081964e+00, -4.53702344e+00],\n",
       "        [-9.78801442e+00, -8.52678592e+00],\n",
       "        [-9.88043097e+00, -6.05108146e+00],\n",
       "        [ 1.44867217e+00, -5.53713539e+00],\n",
       "        [-1.04422633e+01, -6.74549318e+00],\n",
       "        [ 6.83084725e-01, -6.91976383e+00],\n",
       "        [-8.45020142e+00, -7.32711070e+00],\n",
       "        [-9.73089464e-01, -4.06651907e+00],\n",
       "        [ 2.84503785e-01, -3.61576523e+00],\n",
       "        [-1.31673099e+00,  6.54706372e+00],\n",
       "        [ 2.05907384e+00,  4.80547205e+00],\n",
       "        [ 3.18199713e+00,  5.33264367e+00],\n",
       "        [ 2.48573450e+00,  6.91547152e+00],\n",
       "        [-6.73223235e+00, -4.23441407e+00],\n",
       "        [ 2.16784691e+00, -6.16570792e+00],\n",
       "        [ 2.34531543e+00,  6.74289385e+00],\n",
       "        [-1.02040585e+01, -7.97090751e+00],\n",
       "        [ 3.19485113e+00,  6.26478506e+00],\n",
       "        [-1.19228021e+00,  6.14310847e+00],\n",
       "        [-9.14758038e+00, -8.76805755e+00],\n",
       "        [ 3.53993567e+00,  5.45180895e+00],\n",
       "        [-9.61724546e+00, -7.90770302e+00],\n",
       "        [ 3.42501883e+00,  6.99734348e+00],\n",
       "        [-2.72690232e+00,  6.73825748e+00],\n",
       "        [ 3.76567451e+00,  6.38497839e+00],\n",
       "        [-1.05675606e+01, -4.10339044e+00],\n",
       "        [ 2.20129016e+00,  6.70519206e+00],\n",
       "        [-7.88653676e+00, -6.82121417e+00],\n",
       "        [ 5.36321701e-01, -5.12183028e+00],\n",
       "        [ 3.57358029e+00,  8.64954183e+00],\n",
       "        [ 1.28366703e+00,  6.78013179e+00],\n",
       "        [-8.38331511e+00, -7.74858090e+00],\n",
       "        [ 3.74605338e+00,  6.15055885e+00],\n",
       "        [ 1.64692124e+00, -4.00437943e+00],\n",
       "        [-1.05324768e+01, -7.84355739e+00],\n",
       "        [-9.49791635e+00, -8.39689798e+00],\n",
       "        [ 2.89273011e-01, -5.63206350e+00],\n",
       "        [ 4.30265348e+00,  6.60570489e+00],\n",
       "        [-2.12627756e+00,  7.65870629e+00],\n",
       "        [ 1.61855217e+00, -5.73960464e+00],\n",
       "        [-3.05026421e+00,  8.94223661e+00],\n",
       "        [ 1.55822031e+00, -3.74572223e+00],\n",
       "        [ 3.26013324e+00,  6.43099946e+00],\n",
       "        [-8.62817084e+00, -8.01420585e+00],\n",
       "        [-1.74836105e+00,  5.46645575e+00],\n",
       "        [-4.88300213e-01, -5.66504681e+00],\n",
       "        [-1.21747799e+01, -7.91678822e+00],\n",
       "        [-8.34630802e+00, -8.66130645e+00],\n",
       "        [-8.36552370e-01, -5.56887330e+00],\n",
       "        [ 3.07922486e+00,  6.38042572e+00],\n",
       "        [-4.15961535e-01,  6.66600489e+00],\n",
       "        [-9.81739294e+00, -8.17137695e+00],\n",
       "        [ 2.88933650e+00,  5.93216577e+00],\n",
       "        [-1.87511018e+00,  5.62449961e+00],\n",
       "        [ 6.19210169e-01, -4.88278873e+00],\n",
       "        [ 5.08677288e+00,  6.20404737e+00],\n",
       "        [ 5.65144983e-01,  6.55222496e+00],\n",
       "        [-1.28725738e+00,  6.21060091e+00],\n",
       "        [-7.45479667e-01, -2.96189843e+00],\n",
       "        [ 2.90270640e+00, -4.98332671e+00],\n",
       "        [ 4.01803539e+00,  5.45558747e+00],\n",
       "        [-3.39121202e-01,  8.97323488e+00],\n",
       "        [-3.52483690e+00,  6.81598206e+00],\n",
       "        [ 1.89502028e+00, -5.86480291e+00],\n",
       "        [ 2.09040360e+00,  6.75543975e+00],\n",
       "        [-2.80603999e+00,  6.99066209e+00],\n",
       "        [ 1.45801414e+00,  5.95257044e+00],\n",
       "        [ 2.74467226e+00, -4.80951565e+00],\n",
       "        [-2.72740300e-01,  6.66523797e+00],\n",
       "        [ 3.91373218e+00,  5.43922903e+00],\n",
       "        [-1.05007367e+01, -8.55142948e+00],\n",
       "        [-8.75816544e+00, -6.40864861e+00],\n",
       "        [-9.48216559e+00, -7.72813495e+00],\n",
       "        [ 4.90551479e+00,  6.11766373e+00],\n",
       "        [-1.15211263e-01, -4.07510454e+00],\n",
       "        [-8.30225088e+00, -6.55572135e+00],\n",
       "        [-8.66454079e+00, -5.90508127e+00],\n",
       "        [-3.19918761e-01, -4.98235849e+00],\n",
       "        [-2.10963123e+00,  8.47168937e+00],\n",
       "        [-7.19473257e-02, -5.26054466e+00],\n",
       "        [-1.92546452e+00,  5.53701971e+00],\n",
       "        [-2.92469111e+00,  6.25476272e+00],\n",
       "        [-2.90664753e+00,  5.79835066e+00],\n",
       "        [ 1.61854360e+00, -4.88855923e+00],\n",
       "        [ 1.05261753e+00, -3.49553010e+00],\n",
       "        [ 3.39585894e+00,  7.50999675e+00],\n",
       "        [ 1.08927851e+00, -5.50265563e+00],\n",
       "        [-7.60625341e+00, -8.50822003e+00],\n",
       "        [-7.72653016e-01,  7.33138990e+00],\n",
       "        [ 7.88487590e-01, -5.32234378e+00],\n",
       "        [-8.37853170e-01, -4.06344834e+00],\n",
       "        [-7.30021881e-01,  6.45740173e+00],\n",
       "        [ 1.11746530e-01, -3.61615829e+00],\n",
       "        [ 7.65227534e-02,  7.58891330e+00],\n",
       "        [ 4.20540979e+00,  7.60887101e+00],\n",
       "        [-9.50202446e+00, -9.45345197e+00],\n",
       "        [-8.78006742e+00, -6.64156429e+00],\n",
       "        [ 3.50775812e+00,  6.70677389e+00],\n",
       "        [ 3.95479461e+00,  7.06022828e+00],\n",
       "        [-9.05224646e-01,  5.98849223e+00],\n",
       "        [ 2.27830898e+00,  6.76554973e+00],\n",
       "        [ 7.89005756e-01,  6.73031309e+00],\n",
       "        [ 3.23608770e+00,  7.69529426e+00],\n",
       "        [-1.11759409e+01, -6.93311642e+00],\n",
       "        [-6.98588694e-01, -3.52763818e+00],\n",
       "        [-1.04953315e+01, -8.38204241e+00],\n",
       "        [-1.02817702e+01, -7.10826837e+00],\n",
       "        [ 6.78603005e-01, -4.17761085e+00],\n",
       "        [-2.02407808e+00,  6.67946253e+00],\n",
       "        [-9.17624916e-01,  6.45845823e+00],\n",
       "        [ 3.99191575e+00,  6.60357995e+00],\n",
       "        [-1.04334882e+00,  7.16550989e+00],\n",
       "        [ 3.30709252e+00,  7.52045266e+00],\n",
       "        [ 3.28538514e+00,  6.34622469e+00],\n",
       "        [ 4.37872623e+00,  7.77078124e+00],\n",
       "        [-1.82947923e+00,  5.74778105e+00],\n",
       "        [-1.01908037e+01, -7.08820617e+00],\n",
       "        [ 3.43857919e+00,  6.34659863e+00],\n",
       "        [-1.05304951e+01, -7.67861298e+00],\n",
       "        [ 1.10594346e+00, -4.41906375e+00],\n",
       "        [ 6.16219697e-01, -5.27504804e+00],\n",
       "        [-1.20859872e+00,  5.21062268e+00],\n",
       "        [ 4.61164315e+00,  6.05221253e+00],\n",
       "        [-1.96557020e+00,  7.54469557e+00],\n",
       "        [ 3.21718440e+00,  5.66238231e+00],\n",
       "        [ 1.93975803e-01,  6.17337188e+00],\n",
       "        [ 5.87148931e-03, -3.18314256e+00],\n",
       "        [ 4.33614078e-01,  5.44808653e+00],\n",
       "        [-3.01723335e+00,  7.00340678e+00],\n",
       "        [ 2.84271780e+00,  9.26217307e+00],\n",
       "        [-9.42853058e+00, -8.99838025e+00],\n",
       "        [-8.51802106e+00, -9.30400873e+00],\n",
       "        [ 6.13631530e+00,  4.54419105e+00],\n",
       "        [ 1.43136075e+00,  6.68419189e+00],\n",
       "        [-1.51854685e+00,  6.35232464e+00],\n",
       "        [ 1.59909918e+00, -3.07105617e+00],\n",
       "        [-9.43762219e+00, -4.85961564e+00],\n",
       "        [-7.67430564e-01, -5.47682218e+00],\n",
       "        [ 2.14392371e+00,  7.44615522e+00],\n",
       "        [ 5.25950490e+00,  6.18091147e+00],\n",
       "        [ 4.27545710e+00,  6.27045780e+00],\n",
       "        [ 2.48708050e+00, -2.89100712e+00],\n",
       "        [ 2.97157371e+00,  7.25600900e+00],\n",
       "        [ 3.79877054e+00,  7.85178586e+00],\n",
       "        [ 2.05772110e+00, -6.12322912e+00],\n",
       "        [-1.02169699e+01, -8.99327317e+00],\n",
       "        [ 1.09049844e+00, -5.87582929e+00],\n",
       "        [-5.60643409e-01,  6.87612506e+00],\n",
       "        [-3.46772942e+00,  6.76072133e+00],\n",
       "        [-1.10001801e+01, -7.80996633e+00],\n",
       "        [ 1.89855120e+00,  6.84633761e+00],\n",
       "        [ 3.23659674e-01, -5.10078403e+00]]),\n",
       " array([2, 2, 2, 2, 1, 2, 3, 3, 1, 1, 0, 1, 1, 1, 1, 1, 2, 1, 2, 1, 2, 2,\n",
       "        0, 3, 0, 0, 1, 2, 1, 0, 0, 3, 0, 2, 2, 1, 0, 0, 2, 1, 2, 2, 0, 3,\n",
       "        0, 3, 0, 1, 0, 2, 2, 0, 2, 0, 2, 0, 0, 1, 3, 3, 3, 2, 0, 3, 2, 3,\n",
       "        1, 2, 3, 2, 3, 1, 3, 2, 3, 2, 0, 3, 3, 2, 3, 0, 2, 2, 0, 3, 1, 0,\n",
       "        1, 0, 3, 2, 1, 0, 2, 2, 0, 3, 1, 2, 3, 1, 0, 3, 1, 1, 0, 0, 3, 1,\n",
       "        1, 0, 3, 1, 3, 0, 1, 3, 2, 2, 2, 3, 0, 2, 2, 0, 1, 0, 1, 1, 1, 0,\n",
       "        0, 3, 0, 2, 1, 0, 0, 1, 0, 1, 3, 2, 2, 3, 3, 1, 3, 1, 3, 2, 0, 2,\n",
       "        2, 0, 1, 1, 3, 1, 3, 3, 3, 1, 2, 3, 2, 0, 0, 1, 3, 1, 3, 1, 0, 1,\n",
       "        1, 3, 2, 2, 3, 3, 1, 0, 2, 0, 3, 3, 3, 0, 3, 3, 0, 2, 0, 1, 1, 2,\n",
       "        3, 0]))"
      ]
     },
     "execution_count": 3,
     "metadata": {},
     "output_type": "execute_result"
    }
   ],
   "source": [
    "# 200개 샘플, 2개의 독립변수, 4개의 그룹으로 이루어진 데이터 생성\n",
    "\n",
    "data = make_blobs(n_samples = 200, n_features = 2, centers = 4, random_state = 100)\n",
    "data"
   ]
  },
  {
   "cell_type": "code",
   "execution_count": 4,
   "id": "bb0bb1ac",
   "metadata": {},
   "outputs": [
    {
     "data": {
      "text/plain": [
       "array([[-1.04541152e+01, -7.62125255e+00],\n",
       "       [-1.00696483e+01, -6.35203699e+00],\n",
       "       [-9.72925240e+00, -8.44434843e+00],\n",
       "       [-9.53601173e+00, -8.04924975e+00],\n",
       "       [-3.00736857e+00,  5.70163667e+00],\n",
       "       [-1.00825197e+01, -7.06157008e+00],\n",
       "       [ 1.48356884e+00,  6.54127044e+00],\n",
       "       [ 1.36630977e+00,  7.30084118e+00],\n",
       "       [-6.15050479e-01,  7.65521577e+00],\n",
       "       [-2.13385599e-01,  7.84779827e+00],\n",
       "       [ 3.36818459e-01, -3.40287961e+00],\n",
       "       [-1.37722038e+00,  6.91773657e+00],\n",
       "       [-1.08726796e+00,  5.80147972e+00],\n",
       "       [-1.63584937e+00,  8.88579630e+00],\n",
       "       [-7.62592530e-01,  7.32519908e+00],\n",
       "       [-1.93336328e+00,  5.70953908e+00],\n",
       "       [-9.51418426e+00, -7.24137223e+00],\n",
       "       [-9.86650380e-01,  6.87917724e+00],\n",
       "       [-9.37825374e+00, -7.94292047e+00],\n",
       "       [ 2.66345400e-01,  7.40859703e+00],\n",
       "       [-1.20385333e+01, -6.80941325e+00],\n",
       "       [-9.20343837e+00, -8.85252239e+00],\n",
       "       [ 4.10071850e-01, -3.99744881e+00],\n",
       "       [ 2.25174587e+00,  6.49587933e+00],\n",
       "       [ 7.92075370e-01, -4.42865470e+00],\n",
       "       [ 5.41860777e-01, -4.37693628e+00],\n",
       "       [-7.56585997e-01,  5.28608375e+00],\n",
       "       [-8.95266345e+00, -8.55198023e+00],\n",
       "       [-1.68442974e+00,  7.91278699e+00],\n",
       "       [ 1.48113772e+00, -3.69640708e+00],\n",
       "       [ 8.75413399e-01, -5.04555103e+00],\n",
       "       [ 3.00989843e+00,  7.05349904e+00],\n",
       "       [ 9.76962304e-01, -3.92480271e+00],\n",
       "       [-9.94328955e+00, -6.73708455e+00],\n",
       "       [-9.79380030e+00, -5.02918555e+00],\n",
       "       [-1.37939973e+00,  7.84488351e+00],\n",
       "       [-2.10521664e+00, -4.39929502e+00],\n",
       "       [ 4.29963213e-01, -5.55093054e+00],\n",
       "       [-1.01724010e+01, -8.42467961e+00],\n",
       "       [-1.40787241e+00,  8.20386947e+00],\n",
       "       [-8.86329013e+00, -6.46974160e+00],\n",
       "       [-1.17867375e+01, -7.38627486e+00],\n",
       "       [ 2.70003492e+00, -4.42959486e+00],\n",
       "       [ 3.74018799e+00,  5.86277425e+00],\n",
       "       [ 9.76970826e-01, -4.40432866e+00],\n",
       "       [ 3.53853432e+00,  8.06478420e+00],\n",
       "       [-1.36995537e-02, -4.41397335e+00],\n",
       "       [-2.21406638e+00,  6.30414753e+00],\n",
       "       [ 1.54081964e+00, -4.53702344e+00],\n",
       "       [-9.78801442e+00, -8.52678592e+00],\n",
       "       [-9.88043097e+00, -6.05108146e+00],\n",
       "       [ 1.44867217e+00, -5.53713539e+00],\n",
       "       [-1.04422633e+01, -6.74549318e+00],\n",
       "       [ 6.83084725e-01, -6.91976383e+00],\n",
       "       [-8.45020142e+00, -7.32711070e+00],\n",
       "       [-9.73089464e-01, -4.06651907e+00],\n",
       "       [ 2.84503785e-01, -3.61576523e+00],\n",
       "       [-1.31673099e+00,  6.54706372e+00],\n",
       "       [ 2.05907384e+00,  4.80547205e+00],\n",
       "       [ 3.18199713e+00,  5.33264367e+00],\n",
       "       [ 2.48573450e+00,  6.91547152e+00],\n",
       "       [-6.73223235e+00, -4.23441407e+00],\n",
       "       [ 2.16784691e+00, -6.16570792e+00],\n",
       "       [ 2.34531543e+00,  6.74289385e+00],\n",
       "       [-1.02040585e+01, -7.97090751e+00],\n",
       "       [ 3.19485113e+00,  6.26478506e+00],\n",
       "       [-1.19228021e+00,  6.14310847e+00],\n",
       "       [-9.14758038e+00, -8.76805755e+00],\n",
       "       [ 3.53993567e+00,  5.45180895e+00],\n",
       "       [-9.61724546e+00, -7.90770302e+00],\n",
       "       [ 3.42501883e+00,  6.99734348e+00],\n",
       "       [-2.72690232e+00,  6.73825748e+00],\n",
       "       [ 3.76567451e+00,  6.38497839e+00],\n",
       "       [-1.05675606e+01, -4.10339044e+00],\n",
       "       [ 2.20129016e+00,  6.70519206e+00],\n",
       "       [-7.88653676e+00, -6.82121417e+00],\n",
       "       [ 5.36321701e-01, -5.12183028e+00],\n",
       "       [ 3.57358029e+00,  8.64954183e+00],\n",
       "       [ 1.28366703e+00,  6.78013179e+00],\n",
       "       [-8.38331511e+00, -7.74858090e+00],\n",
       "       [ 3.74605338e+00,  6.15055885e+00],\n",
       "       [ 1.64692124e+00, -4.00437943e+00],\n",
       "       [-1.05324768e+01, -7.84355739e+00],\n",
       "       [-9.49791635e+00, -8.39689798e+00],\n",
       "       [ 2.89273011e-01, -5.63206350e+00],\n",
       "       [ 4.30265348e+00,  6.60570489e+00],\n",
       "       [-2.12627756e+00,  7.65870629e+00],\n",
       "       [ 1.61855217e+00, -5.73960464e+00],\n",
       "       [-3.05026421e+00,  8.94223661e+00],\n",
       "       [ 1.55822031e+00, -3.74572223e+00],\n",
       "       [ 3.26013324e+00,  6.43099946e+00],\n",
       "       [-8.62817084e+00, -8.01420585e+00],\n",
       "       [-1.74836105e+00,  5.46645575e+00],\n",
       "       [-4.88300213e-01, -5.66504681e+00],\n",
       "       [-1.21747799e+01, -7.91678822e+00],\n",
       "       [-8.34630802e+00, -8.66130645e+00],\n",
       "       [-8.36552370e-01, -5.56887330e+00],\n",
       "       [ 3.07922486e+00,  6.38042572e+00],\n",
       "       [-4.15961535e-01,  6.66600489e+00],\n",
       "       [-9.81739294e+00, -8.17137695e+00],\n",
       "       [ 2.88933650e+00,  5.93216577e+00],\n",
       "       [-1.87511018e+00,  5.62449961e+00],\n",
       "       [ 6.19210169e-01, -4.88278873e+00],\n",
       "       [ 5.08677288e+00,  6.20404737e+00],\n",
       "       [ 5.65144983e-01,  6.55222496e+00],\n",
       "       [-1.28725738e+00,  6.21060091e+00],\n",
       "       [-7.45479667e-01, -2.96189843e+00],\n",
       "       [ 2.90270640e+00, -4.98332671e+00],\n",
       "       [ 4.01803539e+00,  5.45558747e+00],\n",
       "       [-3.39121202e-01,  8.97323488e+00],\n",
       "       [-3.52483690e+00,  6.81598206e+00],\n",
       "       [ 1.89502028e+00, -5.86480291e+00],\n",
       "       [ 2.09040360e+00,  6.75543975e+00],\n",
       "       [-2.80603999e+00,  6.99066209e+00],\n",
       "       [ 1.45801414e+00,  5.95257044e+00],\n",
       "       [ 2.74467226e+00, -4.80951565e+00],\n",
       "       [-2.72740300e-01,  6.66523797e+00],\n",
       "       [ 3.91373218e+00,  5.43922903e+00],\n",
       "       [-1.05007367e+01, -8.55142948e+00],\n",
       "       [-8.75816544e+00, -6.40864861e+00],\n",
       "       [-9.48216559e+00, -7.72813495e+00],\n",
       "       [ 4.90551479e+00,  6.11766373e+00],\n",
       "       [-1.15211263e-01, -4.07510454e+00],\n",
       "       [-8.30225088e+00, -6.55572135e+00],\n",
       "       [-8.66454079e+00, -5.90508127e+00],\n",
       "       [-3.19918761e-01, -4.98235849e+00],\n",
       "       [-2.10963123e+00,  8.47168937e+00],\n",
       "       [-7.19473257e-02, -5.26054466e+00],\n",
       "       [-1.92546452e+00,  5.53701971e+00],\n",
       "       [-2.92469111e+00,  6.25476272e+00],\n",
       "       [-2.90664753e+00,  5.79835066e+00],\n",
       "       [ 1.61854360e+00, -4.88855923e+00],\n",
       "       [ 1.05261753e+00, -3.49553010e+00],\n",
       "       [ 3.39585894e+00,  7.50999675e+00],\n",
       "       [ 1.08927851e+00, -5.50265563e+00],\n",
       "       [-7.60625341e+00, -8.50822003e+00],\n",
       "       [-7.72653016e-01,  7.33138990e+00],\n",
       "       [ 7.88487590e-01, -5.32234378e+00],\n",
       "       [-8.37853170e-01, -4.06344834e+00],\n",
       "       [-7.30021881e-01,  6.45740173e+00],\n",
       "       [ 1.11746530e-01, -3.61615829e+00],\n",
       "       [ 7.65227534e-02,  7.58891330e+00],\n",
       "       [ 4.20540979e+00,  7.60887101e+00],\n",
       "       [-9.50202446e+00, -9.45345197e+00],\n",
       "       [-8.78006742e+00, -6.64156429e+00],\n",
       "       [ 3.50775812e+00,  6.70677389e+00],\n",
       "       [ 3.95479461e+00,  7.06022828e+00],\n",
       "       [-9.05224646e-01,  5.98849223e+00],\n",
       "       [ 2.27830898e+00,  6.76554973e+00],\n",
       "       [ 7.89005756e-01,  6.73031309e+00],\n",
       "       [ 3.23608770e+00,  7.69529426e+00],\n",
       "       [-1.11759409e+01, -6.93311642e+00],\n",
       "       [-6.98588694e-01, -3.52763818e+00],\n",
       "       [-1.04953315e+01, -8.38204241e+00],\n",
       "       [-1.02817702e+01, -7.10826837e+00],\n",
       "       [ 6.78603005e-01, -4.17761085e+00],\n",
       "       [-2.02407808e+00,  6.67946253e+00],\n",
       "       [-9.17624916e-01,  6.45845823e+00],\n",
       "       [ 3.99191575e+00,  6.60357995e+00],\n",
       "       [-1.04334882e+00,  7.16550989e+00],\n",
       "       [ 3.30709252e+00,  7.52045266e+00],\n",
       "       [ 3.28538514e+00,  6.34622469e+00],\n",
       "       [ 4.37872623e+00,  7.77078124e+00],\n",
       "       [-1.82947923e+00,  5.74778105e+00],\n",
       "       [-1.01908037e+01, -7.08820617e+00],\n",
       "       [ 3.43857919e+00,  6.34659863e+00],\n",
       "       [-1.05304951e+01, -7.67861298e+00],\n",
       "       [ 1.10594346e+00, -4.41906375e+00],\n",
       "       [ 6.16219697e-01, -5.27504804e+00],\n",
       "       [-1.20859872e+00,  5.21062268e+00],\n",
       "       [ 4.61164315e+00,  6.05221253e+00],\n",
       "       [-1.96557020e+00,  7.54469557e+00],\n",
       "       [ 3.21718440e+00,  5.66238231e+00],\n",
       "       [ 1.93975803e-01,  6.17337188e+00],\n",
       "       [ 5.87148931e-03, -3.18314256e+00],\n",
       "       [ 4.33614078e-01,  5.44808653e+00],\n",
       "       [-3.01723335e+00,  7.00340678e+00],\n",
       "       [ 2.84271780e+00,  9.26217307e+00],\n",
       "       [-9.42853058e+00, -8.99838025e+00],\n",
       "       [-8.51802106e+00, -9.30400873e+00],\n",
       "       [ 6.13631530e+00,  4.54419105e+00],\n",
       "       [ 1.43136075e+00,  6.68419189e+00],\n",
       "       [-1.51854685e+00,  6.35232464e+00],\n",
       "       [ 1.59909918e+00, -3.07105617e+00],\n",
       "       [-9.43762219e+00, -4.85961564e+00],\n",
       "       [-7.67430564e-01, -5.47682218e+00],\n",
       "       [ 2.14392371e+00,  7.44615522e+00],\n",
       "       [ 5.25950490e+00,  6.18091147e+00],\n",
       "       [ 4.27545710e+00,  6.27045780e+00],\n",
       "       [ 2.48708050e+00, -2.89100712e+00],\n",
       "       [ 2.97157371e+00,  7.25600900e+00],\n",
       "       [ 3.79877054e+00,  7.85178586e+00],\n",
       "       [ 2.05772110e+00, -6.12322912e+00],\n",
       "       [-1.02169699e+01, -8.99327317e+00],\n",
       "       [ 1.09049844e+00, -5.87582929e+00],\n",
       "       [-5.60643409e-01,  6.87612506e+00],\n",
       "       [-3.46772942e+00,  6.76072133e+00],\n",
       "       [-1.10001801e+01, -7.80996633e+00],\n",
       "       [ 1.89855120e+00,  6.84633761e+00],\n",
       "       [ 3.23659674e-01, -5.10078403e+00]])"
      ]
     },
     "execution_count": 4,
     "metadata": {},
     "output_type": "execute_result"
    }
   ],
   "source": [
    "data[0]     # 독립변수"
   ]
  },
  {
   "cell_type": "code",
   "execution_count": 5,
   "id": "b2296efa",
   "metadata": {},
   "outputs": [
    {
     "data": {
      "text/plain": [
       "array([2, 2, 2, 2, 1, 2, 3, 3, 1, 1, 0, 1, 1, 1, 1, 1, 2, 1, 2, 1, 2, 2,\n",
       "       0, 3, 0, 0, 1, 2, 1, 0, 0, 3, 0, 2, 2, 1, 0, 0, 2, 1, 2, 2, 0, 3,\n",
       "       0, 3, 0, 1, 0, 2, 2, 0, 2, 0, 2, 0, 0, 1, 3, 3, 3, 2, 0, 3, 2, 3,\n",
       "       1, 2, 3, 2, 3, 1, 3, 2, 3, 2, 0, 3, 3, 2, 3, 0, 2, 2, 0, 3, 1, 0,\n",
       "       1, 0, 3, 2, 1, 0, 2, 2, 0, 3, 1, 2, 3, 1, 0, 3, 1, 1, 0, 0, 3, 1,\n",
       "       1, 0, 3, 1, 3, 0, 1, 3, 2, 2, 2, 3, 0, 2, 2, 0, 1, 0, 1, 1, 1, 0,\n",
       "       0, 3, 0, 2, 1, 0, 0, 1, 0, 1, 3, 2, 2, 3, 3, 1, 3, 1, 3, 2, 0, 2,\n",
       "       2, 0, 1, 1, 3, 1, 3, 3, 3, 1, 2, 3, 2, 0, 0, 1, 3, 1, 3, 1, 0, 1,\n",
       "       1, 3, 2, 2, 3, 3, 1, 0, 2, 0, 3, 3, 3, 0, 3, 3, 0, 2, 0, 1, 1, 2,\n",
       "       3, 0])"
      ]
     },
     "execution_count": 5,
     "metadata": {},
     "output_type": "execute_result"
    }
   ],
   "source": [
    "data[1]     # 종속변수"
   ]
  },
  {
   "cell_type": "code",
   "execution_count": 6,
   "id": "88dbd951",
   "metadata": {
    "scrolled": true
   },
   "outputs": [
    {
     "data": {
      "text/plain": [
       "array([-1.04541152e+01, -1.00696483e+01, -9.72925240e+00, -9.53601173e+00,\n",
       "       -3.00736857e+00, -1.00825197e+01,  1.48356884e+00,  1.36630977e+00,\n",
       "       -6.15050479e-01, -2.13385599e-01,  3.36818459e-01, -1.37722038e+00,\n",
       "       -1.08726796e+00, -1.63584937e+00, -7.62592530e-01, -1.93336328e+00,\n",
       "       -9.51418426e+00, -9.86650380e-01, -9.37825374e+00,  2.66345400e-01,\n",
       "       -1.20385333e+01, -9.20343837e+00,  4.10071850e-01,  2.25174587e+00,\n",
       "        7.92075370e-01,  5.41860777e-01, -7.56585997e-01, -8.95266345e+00,\n",
       "       -1.68442974e+00,  1.48113772e+00,  8.75413399e-01,  3.00989843e+00,\n",
       "        9.76962304e-01, -9.94328955e+00, -9.79380030e+00, -1.37939973e+00,\n",
       "       -2.10521664e+00,  4.29963213e-01, -1.01724010e+01, -1.40787241e+00,\n",
       "       -8.86329013e+00, -1.17867375e+01,  2.70003492e+00,  3.74018799e+00,\n",
       "        9.76970826e-01,  3.53853432e+00, -1.36995537e-02, -2.21406638e+00,\n",
       "        1.54081964e+00, -9.78801442e+00, -9.88043097e+00,  1.44867217e+00,\n",
       "       -1.04422633e+01,  6.83084725e-01, -8.45020142e+00, -9.73089464e-01,\n",
       "        2.84503785e-01, -1.31673099e+00,  2.05907384e+00,  3.18199713e+00,\n",
       "        2.48573450e+00, -6.73223235e+00,  2.16784691e+00,  2.34531543e+00,\n",
       "       -1.02040585e+01,  3.19485113e+00, -1.19228021e+00, -9.14758038e+00,\n",
       "        3.53993567e+00, -9.61724546e+00,  3.42501883e+00, -2.72690232e+00,\n",
       "        3.76567451e+00, -1.05675606e+01,  2.20129016e+00, -7.88653676e+00,\n",
       "        5.36321701e-01,  3.57358029e+00,  1.28366703e+00, -8.38331511e+00,\n",
       "        3.74605338e+00,  1.64692124e+00, -1.05324768e+01, -9.49791635e+00,\n",
       "        2.89273011e-01,  4.30265348e+00, -2.12627756e+00,  1.61855217e+00,\n",
       "       -3.05026421e+00,  1.55822031e+00,  3.26013324e+00, -8.62817084e+00,\n",
       "       -1.74836105e+00, -4.88300213e-01, -1.21747799e+01, -8.34630802e+00,\n",
       "       -8.36552370e-01,  3.07922486e+00, -4.15961535e-01, -9.81739294e+00,\n",
       "        2.88933650e+00, -1.87511018e+00,  6.19210169e-01,  5.08677288e+00,\n",
       "        5.65144983e-01, -1.28725738e+00, -7.45479667e-01,  2.90270640e+00,\n",
       "        4.01803539e+00, -3.39121202e-01, -3.52483690e+00,  1.89502028e+00,\n",
       "        2.09040360e+00, -2.80603999e+00,  1.45801414e+00,  2.74467226e+00,\n",
       "       -2.72740300e-01,  3.91373218e+00, -1.05007367e+01, -8.75816544e+00,\n",
       "       -9.48216559e+00,  4.90551479e+00, -1.15211263e-01, -8.30225088e+00,\n",
       "       -8.66454079e+00, -3.19918761e-01, -2.10963123e+00, -7.19473257e-02,\n",
       "       -1.92546452e+00, -2.92469111e+00, -2.90664753e+00,  1.61854360e+00,\n",
       "        1.05261753e+00,  3.39585894e+00,  1.08927851e+00, -7.60625341e+00,\n",
       "       -7.72653016e-01,  7.88487590e-01, -8.37853170e-01, -7.30021881e-01,\n",
       "        1.11746530e-01,  7.65227534e-02,  4.20540979e+00, -9.50202446e+00,\n",
       "       -8.78006742e+00,  3.50775812e+00,  3.95479461e+00, -9.05224646e-01,\n",
       "        2.27830898e+00,  7.89005756e-01,  3.23608770e+00, -1.11759409e+01,\n",
       "       -6.98588694e-01, -1.04953315e+01, -1.02817702e+01,  6.78603005e-01,\n",
       "       -2.02407808e+00, -9.17624916e-01,  3.99191575e+00, -1.04334882e+00,\n",
       "        3.30709252e+00,  3.28538514e+00,  4.37872623e+00, -1.82947923e+00,\n",
       "       -1.01908037e+01,  3.43857919e+00, -1.05304951e+01,  1.10594346e+00,\n",
       "        6.16219697e-01, -1.20859872e+00,  4.61164315e+00, -1.96557020e+00,\n",
       "        3.21718440e+00,  1.93975803e-01,  5.87148931e-03,  4.33614078e-01,\n",
       "       -3.01723335e+00,  2.84271780e+00, -9.42853058e+00, -8.51802106e+00,\n",
       "        6.13631530e+00,  1.43136075e+00, -1.51854685e+00,  1.59909918e+00,\n",
       "       -9.43762219e+00, -7.67430564e-01,  2.14392371e+00,  5.25950490e+00,\n",
       "        4.27545710e+00,  2.48708050e+00,  2.97157371e+00,  3.79877054e+00,\n",
       "        2.05772110e+00, -1.02169699e+01,  1.09049844e+00, -5.60643409e-01,\n",
       "       -3.46772942e+00, -1.10001801e+01,  1.89855120e+00,  3.23659674e-01])"
      ]
     },
     "execution_count": 6,
     "metadata": {},
     "output_type": "execute_result"
    }
   ],
   "source": [
    "# 독립변수의 첫번째 칼럼\n",
    "\n",
    "data[0][:, 0]"
   ]
  },
  {
   "cell_type": "code",
   "execution_count": 8,
   "id": "082784e7",
   "metadata": {},
   "outputs": [
    {
     "data": {
      "text/plain": [
       "<AxesSubplot:>"
      ]
     },
     "execution_count": 8,
     "metadata": {},
     "output_type": "execute_result"
    },
    {
     "data": {
      "image/png": "[encoded data removed]",
      "text/plain": [
       "<Figure size 432x288 with 1 Axes>"
      ]
     },
     "metadata": {
      "needs_background": "light"
     },
     "output_type": "display_data"
    }
   ],
   "source": [
    "sns.scatterplot(x = data[0][:, 0], y = data[0][:, 1])"
   ]
  },
  {
   "cell_type": "code",
   "execution_count": 9,
   "id": "18f557d3",
   "metadata": {},
   "outputs": [
    {
     "data": {
      "text/plain": [
       "<AxesSubplot:>"
      ]
     },
     "execution_count": 9,
     "metadata": {},
     "output_type": "execute_result"
    },
    {
     "data": {
      "image/png": "[encoded data removed]",
      "text/plain": [
       "<Figure size 432x288 with 1 Axes>"
      ]
     },
     "metadata": {
      "needs_background": "light"
     },
     "output_type": "display_data"
    }
   ],
   "source": [
    "sns.scatterplot(x = data[0][:, 0], y = data[0][:, 1], hue = data[1], palette = 'Set2')"
   ]
  },
  {
   "cell_type": "markdown",
   "id": "ceb1802d",
   "metadata": {},
   "source": [
    "## 2. KMeans Clustering 모델링"
   ]
  },
  {
   "cell_type": "code",
   "execution_count": 10,
   "id": "8d71ea75",
   "metadata": {},
   "outputs": [],
   "source": [
    "from sklearn.cluster import KMeans"
   ]
  },
  {
   "cell_type": "code",
   "execution_count": 11,
   "id": "9d7e5551",
   "metadata": {},
   "outputs": [
    {
     "data": {
      "text/plain": [
       "KMeans(n_clusters=4)"
      ]
     },
     "execution_count": 11,
     "metadata": {},
     "output_type": "execute_result"
    }
   ],
   "source": [
    "model = KMeans(n_clusters = 4)\n",
    "model.fit(data[0])"
   ]
  },
  {
   "cell_type": "code",
   "execution_count": 12,
   "id": "7f55c4f8",
   "metadata": {},
   "outputs": [
    {
     "data": {
      "text/plain": [
       "array([0, 0, 0, 0, 1, 0, 3, 3, 1, 1, 2, 1, 1, 1, 1, 1, 0, 1, 0, 1, 0, 0,\n",
       "       2, 3, 2, 2, 1, 0, 1, 2, 2, 3, 2, 0, 0, 1, 2, 2, 0, 1, 0, 0, 2, 3,\n",
       "       2, 3, 2, 1, 2, 0, 0, 2, 0, 2, 0, 2, 2, 1, 3, 3, 3, 0, 2, 3, 0, 3,\n",
       "       1, 0, 3, 0, 3, 1, 3, 0, 3, 0, 2, 3, 3, 0, 3, 2, 0, 0, 2, 3, 1, 2,\n",
       "       1, 2, 3, 0, 1, 2, 0, 0, 2, 3, 1, 0, 3, 1, 2, 3, 1, 1, 2, 2, 3, 1,\n",
       "       1, 2, 3, 1, 3, 2, 1, 3, 0, 0, 0, 3, 2, 0, 0, 2, 1, 2, 1, 1, 1, 2,\n",
       "       2, 3, 2, 0, 1, 2, 2, 1, 2, 1, 3, 0, 0, 3, 3, 1, 3, 1, 3, 0, 2, 0,\n",
       "       0, 2, 1, 1, 3, 1, 3, 3, 3, 1, 0, 3, 0, 2, 2, 1, 3, 1, 3, 1, 2, 1,\n",
       "       1, 3, 0, 0, 3, 3, 1, 2, 0, 2, 3, 3, 3, 2, 3, 3, 2, 0, 2, 1, 1, 0,\n",
       "       3, 2])"
      ]
     },
     "execution_count": 12,
     "metadata": {},
     "output_type": "execute_result"
    }
   ],
   "source": [
    "# 학습된 모델의 클러스터명 확인\n",
    "\n",
    "model.labels_"
   ]
  },
  {
   "cell_type": "code",
   "execution_count": 13,
   "id": "a252a2ff",
   "metadata": {},
   "outputs": [
    {
     "data": {
      "text/plain": [
       "array([2, 2, 2, 2, 1, 2, 3, 3, 1, 1, 0, 1, 1, 1, 1, 1, 2, 1, 2, 1, 2, 2,\n",
       "       0, 3, 0, 0, 1, 2, 1, 0, 0, 3, 0, 2, 2, 1, 0, 0, 2, 1, 2, 2, 0, 3,\n",
       "       0, 3, 0, 1, 0, 2, 2, 0, 2, 0, 2, 0, 0, 1, 3, 3, 3, 2, 0, 3, 2, 3,\n",
       "       1, 2, 3, 2, 3, 1, 3, 2, 3, 2, 0, 3, 3, 2, 3, 0, 2, 2, 0, 3, 1, 0,\n",
       "       1, 0, 3, 2, 1, 0, 2, 2, 0, 3, 1, 2, 3, 1, 0, 3, 1, 1, 0, 0, 3, 1,\n",
       "       1, 0, 3, 1, 3, 0, 1, 3, 2, 2, 2, 3, 0, 2, 2, 0, 1, 0, 1, 1, 1, 0,\n",
       "       0, 3, 0, 2, 1, 0, 0, 1, 0, 1, 3, 2, 2, 3, 3, 1, 3, 1, 3, 2, 0, 2,\n",
       "       2, 0, 1, 1, 3, 1, 3, 3, 3, 1, 2, 3, 2, 0, 0, 1, 3, 1, 3, 1, 0, 1,\n",
       "       1, 3, 2, 2, 3, 3, 1, 0, 2, 0, 3, 3, 3, 0, 3, 3, 0, 2, 0, 1, 1, 2,\n",
       "       3, 0])"
      ]
     },
     "execution_count": 13,
     "metadata": {},
     "output_type": "execute_result"
    }
   ],
   "source": [
    "data[1]"
   ]
  },
  {
   "cell_type": "code",
   "execution_count": 14,
   "id": "07d9ba49",
   "metadata": {},
   "outputs": [
    {
     "data": {
      "text/plain": [
       "<AxesSubplot:>"
      ]
     },
     "execution_count": 14,
     "metadata": {},
     "output_type": "execute_result"
    },
    {
     "data": {
      "image/png": "[encoded data removed]",
      "text/plain": [
       "<Figure size 432x288 with 1 Axes>"
      ]
     },
     "metadata": {
      "needs_background": "light"
     },
     "output_type": "display_data"
    }
   ],
   "source": [
    "# 실제값\n",
    "\n",
    "sns.scatterplot(x = data[0][:, 0], y = data[0][:, 1], hue = data[1], palette = 'Set2')"
   ]
  },
  {
   "cell_type": "code",
   "execution_count": 15,
   "id": "4ada9408",
   "metadata": {},
   "outputs": [
    {
     "data": {
      "text/plain": [
       "<AxesSubplot:>"
      ]
     },
     "execution_count": 15,
     "metadata": {},
     "output_type": "execute_result"
    },
    {
     "data": {
      "image/png": "[encoded data removed]",
      "text/plain": [
       "<Figure size 432x288 with 1 Axes>"
      ]
     },
     "metadata": {
      "needs_background": "light"
     },
     "output_type": "display_data"
    }
   ],
   "source": [
    "# 모델링 결과\n",
    "\n",
    "sns.scatterplot(x = data[0][:, 0], y = data[0][:, 1], hue = model.labels_, palette = 'Set2')"
   ]
  },
  {
   "cell_type": "markdown",
   "id": "c37c444f",
   "metadata": {},
   "source": [
    "- 위 아래 그래프에서 색은 다를 수 있음\n",
    "- 나눠진 형태를 보면 동일하게 나뉘어짐"
   ]
  },
  {
   "cell_type": "markdown",
   "id": "878f92e5",
   "metadata": {},
   "source": [
    "### k값 변경"
   ]
  },
  {
   "cell_type": "code",
   "execution_count": 16,
   "id": "28d709cd",
   "metadata": {},
   "outputs": [
    {
     "data": {
      "text/plain": [
       "KMeans(n_clusters=3)"
      ]
     },
     "execution_count": 16,
     "metadata": {},
     "output_type": "execute_result"
    }
   ],
   "source": [
    "# k = 3\n",
    "\n",
    "model = KMeans(n_clusters = 3)\n",
    "model.fit(data[0])"
   ]
  },
  {
   "cell_type": "code",
   "execution_count": 17,
   "id": "c7c8acc6",
   "metadata": {},
   "outputs": [
    {
     "data": {
      "text/plain": [
       "<AxesSubplot:>"
      ]
     },
     "execution_count": 17,
     "metadata": {},
     "output_type": "execute_result"
    },
    {
     "data": {
      "image/png": "[encoded data removed]",
      "text/plain": [
       "<Figure size 432x288 with 1 Axes>"
      ]
     },
     "metadata": {
      "needs_background": "light"
     },
     "output_type": "display_data"
    }
   ],
   "source": [
    "sns.scatterplot(x = data[0][:, 0], y = data[0][:, 1], hue = model.labels_, palette = 'Set2')"
   ]
  },
  {
   "cell_type": "code",
   "execution_count": 18,
   "id": "c69a515e",
   "metadata": {},
   "outputs": [
    {
     "data": {
      "text/plain": [
       "<AxesSubplot:>"
      ]
     },
     "execution_count": 18,
     "metadata": {},
     "output_type": "execute_result"
    },
    {
     "data": {
      "image/png": "[encoded data removed]",
      "text/plain": [
       "<Figure size 432x288 with 1 Axes>"
      ]
     },
     "metadata": {
      "needs_background": "light"
     },
     "output_type": "display_data"
    }
   ],
   "source": [
    "# k = 5\n",
    "\n",
    "model = KMeans(n_clusters = 5)\n",
    "model.fit(data[0])\n",
    "sns.scatterplot(x = data[0][:, 0], y = data[0][:, 1], hue = model.labels_, palette = 'Set2')"
   ]
  },
  {
   "cell_type": "code",
   "execution_count": 19,
   "id": "72bc1f18",
   "metadata": {},
   "outputs": [
    {
     "data": {
      "text/plain": [
       "array([[ 3.25526355,  6.63529725],\n",
       "       [-9.00925979, -5.96399219],\n",
       "       [ 0.72218432, -4.64441009],\n",
       "       [-1.3849113 ,  6.78514243],\n",
       "       [-9.89880155, -8.04428767]])"
      ]
     },
     "execution_count": 19,
     "metadata": {},
     "output_type": "execute_result"
    }
   ],
   "source": [
    "model.cluster_centers_     # 각 클러스터의 중심값"
   ]
  },
  {
   "cell_type": "markdown",
   "id": "8087870f",
   "metadata": {},
   "source": [
    "### 최적의 k값 찾기: elbow method"
   ]
  },
  {
   "cell_type": "code",
   "execution_count": 20,
   "id": "5a9dd8c1",
   "metadata": {},
   "outputs": [
    {
     "data": {
      "text/plain": [
       "377.0923630431553"
      ]
     },
     "execution_count": 20,
     "metadata": {},
     "output_type": "execute_result"
    }
   ],
   "source": [
    "model.inertia_     # 센터와 각각의 샘플과의 거리. 숫자가 클수록 중심과의 거리가 멀다"
   ]
  },
  {
   "cell_type": "markdown",
   "id": "a1903ace",
   "metadata": {},
   "source": [
    "- 센터를 기준으로 observations들이 모여 있는 것이 좋으므로 숫자가 작을수록 좋음"
   ]
  },
  {
   "cell_type": "code",
   "execution_count": 21,
   "id": "c70ed3ec",
   "metadata": {},
   "outputs": [
    {
     "data": {
      "text/plain": [
       "[3855.390858382052,\n",
       " 967.5329197924485,\n",
       " 428.69101432438094,\n",
       " 381.8704307938783,\n",
       " 330.40287457725987,\n",
       " 304.0668276360403,\n",
       " 266.1744415958364,\n",
       " 240.6422713616327,\n",
       " 212.22075225876148]"
      ]
     },
     "execution_count": 21,
     "metadata": {},
     "output_type": "execute_result"
    }
   ],
   "source": [
    "distance = []\n",
    "\n",
    "for i in range(2, 11):\n",
    "    model = KMeans(n_clusters = i)\n",
    "    model.fit(data[0])\n",
    "    distance.append(model.inertia_)\n",
    "    \n",
    "distance"
   ]
  },
  {
   "cell_type": "code",
   "execution_count": 22,
   "id": "e28162aa",
   "metadata": {},
   "outputs": [
    {
     "data": {
      "text/plain": [
       "[2, 3, 4, 5, 6, 7, 8, 9, 10]"
      ]
     },
     "execution_count": 22,
     "metadata": {},
     "output_type": "execute_result"
    }
   ],
   "source": [
    "list(range(2, 11))"
   ]
  },
  {
   "cell_type": "code",
   "execution_count": 24,
   "id": "108ee6ca",
   "metadata": {},
   "outputs": [
    {
     "data": {
      "text/plain": [
       "<AxesSubplot:>"
      ]
     },
     "execution_count": 24,
     "metadata": {},
     "output_type": "execute_result"
    },
    {
     "data": {
      "image/png": "[encoded data removed]",
      "text/plain": [
       "<Figure size 432x288 with 1 Axes>"
      ]
     },
     "metadata": {
      "needs_background": "light"
     },
     "output_type": "display_data"
    }
   ],
   "source": [
    "sns.lineplot(x = list(range(2, 11)), y = distance)"
   ]
  },
  {
   "cell_type": "markdown",
   "id": "9f9c3775",
   "metadata": {},
   "source": [
    "- 급격히 꺾이는 부분이 최적의 k값 = 4"
   ]
  },
  {
   "cell_type": "markdown",
   "id": "c0dbadd9",
   "metadata": {},
   "source": [
    "# 2. 고객 데이터 활용하여 kmeans clustering"
   ]
  },
  {
   "cell_type": "code",
   "execution_count": 25,
   "id": "f1e73649",
   "metadata": {},
   "outputs": [],
   "source": [
    "import pandas as pd\n",
    "import numpy as np\n",
    "import matplotlib.pyplot as plt\n",
    "import seaborn as sns"
   ]
  },
  {
   "cell_type": "code",
   "execution_count": 26,
   "id": "5ca25782",
   "metadata": {},
   "outputs": [
    {
     "data": {
      "text/html": [
       "<div>\n",
       "<style scoped>\n",
       "    .dataframe tbody tr th:only-of-type {\n",
       "        vertical-align: middle;\n",
       "    }\n",
       "\n",
       "    .dataframe tbody tr th {\n",
       "        vertical-align: top;\n",
       "    }\n",
       "\n",
       "    .dataframe thead th {\n",
       "        text-align: right;\n",
       "    }\n",
       "</style>\n",
       "<table border=\"1\" class=\"dataframe\">\n",
       "  <thead>\n",
       "    <tr style=\"text-align: right;\">\n",
       "      <th></th>\n",
       "      <th>CustomerID</th>\n",
       "      <th>Gender</th>\n",
       "      <th>Age</th>\n",
       "      <th>Annual Income (k$)</th>\n",
       "      <th>Spending Score (1-100)</th>\n",
       "    </tr>\n",
       "  </thead>\n",
       "  <tbody>\n",
       "    <tr>\n",
       "      <th>0</th>\n",
       "      <td>1</td>\n",
       "      <td>Male</td>\n",
       "      <td>19</td>\n",
       "      <td>15</td>\n",
       "      <td>39</td>\n",
       "    </tr>\n",
       "    <tr>\n",
       "      <th>1</th>\n",
       "      <td>2</td>\n",
       "      <td>Male</td>\n",
       "      <td>21</td>\n",
       "      <td>15</td>\n",
       "      <td>81</td>\n",
       "    </tr>\n",
       "    <tr>\n",
       "      <th>2</th>\n",
       "      <td>3</td>\n",
       "      <td>Female</td>\n",
       "      <td>20</td>\n",
       "      <td>16</td>\n",
       "      <td>6</td>\n",
       "    </tr>\n",
       "    <tr>\n",
       "      <th>3</th>\n",
       "      <td>4</td>\n",
       "      <td>Female</td>\n",
       "      <td>23</td>\n",
       "      <td>16</td>\n",
       "      <td>77</td>\n",
       "    </tr>\n",
       "    <tr>\n",
       "      <th>4</th>\n",
       "      <td>5</td>\n",
       "      <td>Female</td>\n",
       "      <td>31</td>\n",
       "      <td>17</td>\n",
       "      <td>40</td>\n",
       "    </tr>\n",
       "  </tbody>\n",
       "</table>\n",
       "</div>"
      ],
      "text/plain": [
       "   CustomerID  Gender  Age  Annual Income (k$)  Spending Score (1-100)\n",
       "0           1    Male   19                  15                      39\n",
       "1           2    Male   21                  15                      81\n",
       "2           3  Female   20                  16                       6\n",
       "3           4  Female   23                  16                      77\n",
       "4           5  Female   31                  17                      40"
      ]
     },
     "execution_count": 26,
     "metadata": {},
     "output_type": "execute_result"
    }
   ],
   "source": [
    "data = pd.read_csv('Mall_Customers.csv')\n",
    "data.head()"
   ]
  },
  {
   "cell_type": "code",
   "execution_count": 27,
   "id": "510ae966",
   "metadata": {},
   "outputs": [
    {
     "data": {
      "text/html": [
       "<div>\n",
       "<style scoped>\n",
       "    .dataframe tbody tr th:only-of-type {\n",
       "        vertical-align: middle;\n",
       "    }\n",
       "\n",
       "    .dataframe tbody tr th {\n",
       "        vertical-align: top;\n",
       "    }\n",
       "\n",
       "    .dataframe thead th {\n",
       "        text-align: right;\n",
       "    }\n",
       "</style>\n",
       "<table border=\"1\" class=\"dataframe\">\n",
       "  <thead>\n",
       "    <tr style=\"text-align: right;\">\n",
       "      <th></th>\n",
       "      <th>Gender</th>\n",
       "      <th>Age</th>\n",
       "      <th>Annual Income (k$)</th>\n",
       "      <th>Spending Score (1-100)</th>\n",
       "    </tr>\n",
       "    <tr>\n",
       "      <th>CustomerID</th>\n",
       "      <th></th>\n",
       "      <th></th>\n",
       "      <th></th>\n",
       "      <th></th>\n",
       "    </tr>\n",
       "  </thead>\n",
       "  <tbody>\n",
       "    <tr>\n",
       "      <th>1</th>\n",
       "      <td>Male</td>\n",
       "      <td>19</td>\n",
       "      <td>15</td>\n",
       "      <td>39</td>\n",
       "    </tr>\n",
       "    <tr>\n",
       "      <th>2</th>\n",
       "      <td>Male</td>\n",
       "      <td>21</td>\n",
       "      <td>15</td>\n",
       "      <td>81</td>\n",
       "    </tr>\n",
       "    <tr>\n",
       "      <th>3</th>\n",
       "      <td>Female</td>\n",
       "      <td>20</td>\n",
       "      <td>16</td>\n",
       "      <td>6</td>\n",
       "    </tr>\n",
       "    <tr>\n",
       "      <th>4</th>\n",
       "      <td>Female</td>\n",
       "      <td>23</td>\n",
       "      <td>16</td>\n",
       "      <td>77</td>\n",
       "    </tr>\n",
       "    <tr>\n",
       "      <th>5</th>\n",
       "      <td>Female</td>\n",
       "      <td>31</td>\n",
       "      <td>17</td>\n",
       "      <td>40</td>\n",
       "    </tr>\n",
       "  </tbody>\n",
       "</table>\n",
       "</div>"
      ],
      "text/plain": [
       "            Gender  Age  Annual Income (k$)  Spending Score (1-100)\n",
       "CustomerID                                                         \n",
       "1             Male   19                  15                      39\n",
       "2             Male   21                  15                      81\n",
       "3           Female   20                  16                       6\n",
       "4           Female   23                  16                      77\n",
       "5           Female   31                  17                      40"
      ]
     },
     "execution_count": 27,
     "metadata": {},
     "output_type": "execute_result"
    }
   ],
   "source": [
    "# CustomerID를 인덱스로 불러오기\n",
    "\n",
    "data = pd.read_csv('Mall_Customers.csv', index_col = 0)\n",
    "data.head()"
   ]
  },
  {
   "cell_type": "code",
   "execution_count": 28,
   "id": "fca9221e",
   "metadata": {},
   "outputs": [
    {
     "name": "stdout",
     "output_type": "stream",
     "text": [
      "<class 'pandas.core.frame.DataFrame'>\n",
      "Int64Index: 200 entries, 1 to 200\n",
      "Data columns (total 4 columns):\n",
      " #   Column                  Non-Null Count  Dtype \n",
      "---  ------                  --------------  ----- \n",
      " 0   Gender                  200 non-null    object\n",
      " 1   Age                     200 non-null    int64 \n",
      " 2   Annual Income (k$)      200 non-null    int64 \n",
      " 3   Spending Score (1-100)  200 non-null    int64 \n",
      "dtypes: int64(3), object(1)\n",
      "memory usage: 7.8+ KB\n"
     ]
    }
   ],
   "source": [
    "data.info()"
   ]
  },
  {
   "cell_type": "code",
   "execution_count": 29,
   "id": "80ad274d",
   "metadata": {},
   "outputs": [
    {
     "data": {
      "text/html": [
       "<div>\n",
       "<style scoped>\n",
       "    .dataframe tbody tr th:only-of-type {\n",
       "        vertical-align: middle;\n",
       "    }\n",
       "\n",
       "    .dataframe tbody tr th {\n",
       "        vertical-align: top;\n",
       "    }\n",
       "\n",
       "    .dataframe thead th {\n",
       "        text-align: right;\n",
       "    }\n",
       "</style>\n",
       "<table border=\"1\" class=\"dataframe\">\n",
       "  <thead>\n",
       "    <tr style=\"text-align: right;\">\n",
       "      <th></th>\n",
       "      <th>Age</th>\n",
       "      <th>Annual Income (k$)</th>\n",
       "      <th>Spending Score (1-100)</th>\n",
       "    </tr>\n",
       "  </thead>\n",
       "  <tbody>\n",
       "    <tr>\n",
       "      <th>count</th>\n",
       "      <td>200.000000</td>\n",
       "      <td>200.000000</td>\n",
       "      <td>200.000000</td>\n",
       "    </tr>\n",
       "    <tr>\n",
       "      <th>mean</th>\n",
       "      <td>38.850000</td>\n",
       "      <td>60.560000</td>\n",
       "      <td>50.200000</td>\n",
       "    </tr>\n",
       "    <tr>\n",
       "      <th>std</th>\n",
       "      <td>13.969007</td>\n",
       "      <td>26.264721</td>\n",
       "      <td>25.823522</td>\n",
       "    </tr>\n",
       "    <tr>\n",
       "      <th>min</th>\n",
       "      <td>18.000000</td>\n",
       "      <td>15.000000</td>\n",
       "      <td>1.000000</td>\n",
       "    </tr>\n",
       "    <tr>\n",
       "      <th>25%</th>\n",
       "      <td>28.750000</td>\n",
       "      <td>41.500000</td>\n",
       "      <td>34.750000</td>\n",
       "    </tr>\n",
       "    <tr>\n",
       "      <th>50%</th>\n",
       "      <td>36.000000</td>\n",
       "      <td>61.500000</td>\n",
       "      <td>50.000000</td>\n",
       "    </tr>\n",
       "    <tr>\n",
       "      <th>75%</th>\n",
       "      <td>49.000000</td>\n",
       "      <td>78.000000</td>\n",
       "      <td>73.000000</td>\n",
       "    </tr>\n",
       "    <tr>\n",
       "      <th>max</th>\n",
       "      <td>70.000000</td>\n",
       "      <td>137.000000</td>\n",
       "      <td>99.000000</td>\n",
       "    </tr>\n",
       "  </tbody>\n",
       "</table>\n",
       "</div>"
      ],
      "text/plain": [
       "              Age  Annual Income (k$)  Spending Score (1-100)\n",
       "count  200.000000          200.000000              200.000000\n",
       "mean    38.850000           60.560000               50.200000\n",
       "std     13.969007           26.264721               25.823522\n",
       "min     18.000000           15.000000                1.000000\n",
       "25%     28.750000           41.500000               34.750000\n",
       "50%     36.000000           61.500000               50.000000\n",
       "75%     49.000000           78.000000               73.000000\n",
       "max     70.000000          137.000000               99.000000"
      ]
     },
     "execution_count": 29,
     "metadata": {},
     "output_type": "execute_result"
    }
   ],
   "source": [
    "data.describe()"
   ]
  },
  {
   "cell_type": "code",
   "execution_count": 30,
   "id": "ec74b9b5",
   "metadata": {},
   "outputs": [
    {
     "data": {
      "text/html": [
       "<div>\n",
       "<style scoped>\n",
       "    .dataframe tbody tr th:only-of-type {\n",
       "        vertical-align: middle;\n",
       "    }\n",
       "\n",
       "    .dataframe tbody tr th {\n",
       "        vertical-align: top;\n",
       "    }\n",
       "\n",
       "    .dataframe thead th {\n",
       "        text-align: right;\n",
       "    }\n",
       "</style>\n",
       "<table border=\"1\" class=\"dataframe\">\n",
       "  <thead>\n",
       "    <tr style=\"text-align: right;\">\n",
       "      <th></th>\n",
       "      <th>Age</th>\n",
       "      <th>Annual Income (k$)</th>\n",
       "      <th>Spending Score (1-100)</th>\n",
       "      <th>Gender_Male</th>\n",
       "    </tr>\n",
       "    <tr>\n",
       "      <th>CustomerID</th>\n",
       "      <th></th>\n",
       "      <th></th>\n",
       "      <th></th>\n",
       "      <th></th>\n",
       "    </tr>\n",
       "  </thead>\n",
       "  <tbody>\n",
       "    <tr>\n",
       "      <th>1</th>\n",
       "      <td>19</td>\n",
       "      <td>15</td>\n",
       "      <td>39</td>\n",
       "      <td>1</td>\n",
       "    </tr>\n",
       "    <tr>\n",
       "      <th>2</th>\n",
       "      <td>21</td>\n",
       "      <td>15</td>\n",
       "      <td>81</td>\n",
       "      <td>1</td>\n",
       "    </tr>\n",
       "    <tr>\n",
       "      <th>3</th>\n",
       "      <td>20</td>\n",
       "      <td>16</td>\n",
       "      <td>6</td>\n",
       "      <td>0</td>\n",
       "    </tr>\n",
       "    <tr>\n",
       "      <th>4</th>\n",
       "      <td>23</td>\n",
       "      <td>16</td>\n",
       "      <td>77</td>\n",
       "      <td>0</td>\n",
       "    </tr>\n",
       "    <tr>\n",
       "      <th>5</th>\n",
       "      <td>31</td>\n",
       "      <td>17</td>\n",
       "      <td>40</td>\n",
       "      <td>0</td>\n",
       "    </tr>\n",
       "    <tr>\n",
       "      <th>...</th>\n",
       "      <td>...</td>\n",
       "      <td>...</td>\n",
       "      <td>...</td>\n",
       "      <td>...</td>\n",
       "    </tr>\n",
       "    <tr>\n",
       "      <th>196</th>\n",
       "      <td>35</td>\n",
       "      <td>120</td>\n",
       "      <td>79</td>\n",
       "      <td>0</td>\n",
       "    </tr>\n",
       "    <tr>\n",
       "      <th>197</th>\n",
       "      <td>45</td>\n",
       "      <td>126</td>\n",
       "      <td>28</td>\n",
       "      <td>0</td>\n",
       "    </tr>\n",
       "    <tr>\n",
       "      <th>198</th>\n",
       "      <td>32</td>\n",
       "      <td>126</td>\n",
       "      <td>74</td>\n",
       "      <td>1</td>\n",
       "    </tr>\n",
       "    <tr>\n",
       "      <th>199</th>\n",
       "      <td>32</td>\n",
       "      <td>137</td>\n",
       "      <td>18</td>\n",
       "      <td>1</td>\n",
       "    </tr>\n",
       "    <tr>\n",
       "      <th>200</th>\n",
       "      <td>30</td>\n",
       "      <td>137</td>\n",
       "      <td>83</td>\n",
       "      <td>1</td>\n",
       "    </tr>\n",
       "  </tbody>\n",
       "</table>\n",
       "<p>200 rows × 4 columns</p>\n",
       "</div>"
      ],
      "text/plain": [
       "            Age  Annual Income (k$)  Spending Score (1-100)  Gender_Male\n",
       "CustomerID                                                              \n",
       "1            19                  15                      39            1\n",
       "2            21                  15                      81            1\n",
       "3            20                  16                       6            0\n",
       "4            23                  16                      77            0\n",
       "5            31                  17                      40            0\n",
       "...         ...                 ...                     ...          ...\n",
       "196          35                 120                      79            0\n",
       "197          45                 126                      28            0\n",
       "198          32                 126                      74            1\n",
       "199          32                 137                      18            1\n",
       "200          30                 137                      83            1\n",
       "\n",
       "[200 rows x 4 columns]"
      ]
     },
     "execution_count": 30,
     "metadata": {},
     "output_type": "execute_result"
    }
   ],
   "source": [
    "# 카테고리 칼럼 처리\n",
    "\n",
    "data = pd.get_dummies(data, columns = ['Gender'], drop_first = True)\n",
    "data"
   ]
  },
  {
   "cell_type": "markdown",
   "id": "ede75e14",
   "metadata": {},
   "source": [
    "## kmeans clustering 모델링"
   ]
  },
  {
   "cell_type": "code",
   "execution_count": 31,
   "id": "7ca19a05",
   "metadata": {},
   "outputs": [],
   "source": [
    "from sklearn.cluster import KMeans"
   ]
  },
  {
   "cell_type": "code",
   "execution_count": 32,
   "id": "cacd3f32",
   "metadata": {},
   "outputs": [
    {
     "data": {
      "text/plain": [
       "KMeans(n_clusters=3)"
      ]
     },
     "execution_count": 32,
     "metadata": {},
     "output_type": "execute_result"
    }
   ],
   "source": [
    "model = KMeans(n_clusters = 3)\n",
    "model.fit(data)"
   ]
  },
  {
   "cell_type": "code",
   "execution_count": 33,
   "id": "3f28b2be",
   "metadata": {},
   "outputs": [
    {
     "data": {
      "text/plain": [
       "array([2, 2, 2, 2, 2, 2, 2, 2, 2, 2, 2, 2, 2, 2, 2, 2, 2, 2, 2, 2, 2, 2,\n",
       "       2, 2, 2, 2, 2, 2, 2, 2, 2, 2, 2, 2, 2, 2, 2, 2, 2, 2, 2, 2, 2, 2,\n",
       "       2, 2, 2, 2, 2, 2, 2, 2, 2, 2, 2, 2, 2, 2, 2, 2, 2, 2, 2, 2, 2, 2,\n",
       "       2, 2, 2, 2, 2, 2, 2, 2, 2, 2, 2, 2, 2, 2, 2, 2, 2, 2, 2, 2, 2, 2,\n",
       "       2, 2, 2, 2, 2, 2, 2, 2, 2, 2, 2, 2, 2, 2, 2, 2, 2, 2, 2, 2, 2, 2,\n",
       "       2, 2, 2, 2, 2, 2, 2, 2, 2, 2, 2, 2, 2, 0, 1, 0, 1, 0, 1, 0, 1, 0,\n",
       "       1, 0, 1, 0, 1, 0, 1, 0, 1, 0, 1, 0, 1, 0, 1, 0, 1, 0, 1, 0, 1, 0,\n",
       "       1, 0, 1, 0, 1, 0, 1, 0, 1, 0, 1, 0, 1, 0, 1, 0, 1, 0, 1, 0, 1, 0,\n",
       "       1, 0, 1, 0, 1, 0, 1, 0, 1, 0, 1, 0, 1, 0, 1, 0, 1, 0, 1, 0, 1, 0,\n",
       "       1, 0])"
      ]
     },
     "execution_count": 33,
     "metadata": {},
     "output_type": "execute_result"
    }
   ],
   "source": [
    "model.labels_"
   ]
  },
  {
   "cell_type": "code",
   "execution_count": 34,
   "id": "14498eb0",
   "metadata": {},
   "outputs": [
    {
     "data": {
      "text/html": [
       "<div>\n",
       "<style scoped>\n",
       "    .dataframe tbody tr th:only-of-type {\n",
       "        vertical-align: middle;\n",
       "    }\n",
       "\n",
       "    .dataframe tbody tr th {\n",
       "        vertical-align: top;\n",
       "    }\n",
       "\n",
       "    .dataframe thead th {\n",
       "        text-align: right;\n",
       "    }\n",
       "</style>\n",
       "<table border=\"1\" class=\"dataframe\">\n",
       "  <thead>\n",
       "    <tr style=\"text-align: right;\">\n",
       "      <th></th>\n",
       "      <th>Age</th>\n",
       "      <th>Annual Income (k$)</th>\n",
       "      <th>Spending Score (1-100)</th>\n",
       "      <th>Gender_Male</th>\n",
       "    </tr>\n",
       "    <tr>\n",
       "      <th>CustomerID</th>\n",
       "      <th></th>\n",
       "      <th></th>\n",
       "      <th></th>\n",
       "      <th></th>\n",
       "    </tr>\n",
       "  </thead>\n",
       "  <tbody>\n",
       "    <tr>\n",
       "      <th>1</th>\n",
       "      <td>19</td>\n",
       "      <td>15</td>\n",
       "      <td>39</td>\n",
       "      <td>1</td>\n",
       "    </tr>\n",
       "    <tr>\n",
       "      <th>2</th>\n",
       "      <td>21</td>\n",
       "      <td>15</td>\n",
       "      <td>81</td>\n",
       "      <td>1</td>\n",
       "    </tr>\n",
       "    <tr>\n",
       "      <th>3</th>\n",
       "      <td>20</td>\n",
       "      <td>16</td>\n",
       "      <td>6</td>\n",
       "      <td>0</td>\n",
       "    </tr>\n",
       "    <tr>\n",
       "      <th>4</th>\n",
       "      <td>23</td>\n",
       "      <td>16</td>\n",
       "      <td>77</td>\n",
       "      <td>0</td>\n",
       "    </tr>\n",
       "    <tr>\n",
       "      <th>5</th>\n",
       "      <td>31</td>\n",
       "      <td>17</td>\n",
       "      <td>40</td>\n",
       "      <td>0</td>\n",
       "    </tr>\n",
       "    <tr>\n",
       "      <th>...</th>\n",
       "      <td>...</td>\n",
       "      <td>...</td>\n",
       "      <td>...</td>\n",
       "      <td>...</td>\n",
       "    </tr>\n",
       "    <tr>\n",
       "      <th>196</th>\n",
       "      <td>35</td>\n",
       "      <td>120</td>\n",
       "      <td>79</td>\n",
       "      <td>0</td>\n",
       "    </tr>\n",
       "    <tr>\n",
       "      <th>197</th>\n",
       "      <td>45</td>\n",
       "      <td>126</td>\n",
       "      <td>28</td>\n",
       "      <td>0</td>\n",
       "    </tr>\n",
       "    <tr>\n",
       "      <th>198</th>\n",
       "      <td>32</td>\n",
       "      <td>126</td>\n",
       "      <td>74</td>\n",
       "      <td>1</td>\n",
       "    </tr>\n",
       "    <tr>\n",
       "      <th>199</th>\n",
       "      <td>32</td>\n",
       "      <td>137</td>\n",
       "      <td>18</td>\n",
       "      <td>1</td>\n",
       "    </tr>\n",
       "    <tr>\n",
       "      <th>200</th>\n",
       "      <td>30</td>\n",
       "      <td>137</td>\n",
       "      <td>83</td>\n",
       "      <td>1</td>\n",
       "    </tr>\n",
       "  </tbody>\n",
       "</table>\n",
       "<p>200 rows × 4 columns</p>\n",
       "</div>"
      ],
      "text/plain": [
       "            Age  Annual Income (k$)  Spending Score (1-100)  Gender_Male\n",
       "CustomerID                                                              \n",
       "1            19                  15                      39            1\n",
       "2            21                  15                      81            1\n",
       "3            20                  16                       6            0\n",
       "4            23                  16                      77            0\n",
       "5            31                  17                      40            0\n",
       "...         ...                 ...                     ...          ...\n",
       "196          35                 120                      79            0\n",
       "197          45                 126                      28            0\n",
       "198          32                 126                      74            1\n",
       "199          32                 137                      18            1\n",
       "200          30                 137                      83            1\n",
       "\n",
       "[200 rows x 4 columns]"
      ]
     },
     "execution_count": 34,
     "metadata": {},
     "output_type": "execute_result"
    }
   ],
   "source": [
    "result_df = data.copy()\n",
    "result_df"
   ]
  },
  {
   "cell_type": "code",
   "execution_count": 35,
   "id": "d7b1daab",
   "metadata": {},
   "outputs": [
    {
     "data": {
      "text/html": [
       "<div>\n",
       "<style scoped>\n",
       "    .dataframe tbody tr th:only-of-type {\n",
       "        vertical-align: middle;\n",
       "    }\n",
       "\n",
       "    .dataframe tbody tr th {\n",
       "        vertical-align: top;\n",
       "    }\n",
       "\n",
       "    .dataframe thead th {\n",
       "        text-align: right;\n",
       "    }\n",
       "</style>\n",
       "<table border=\"1\" class=\"dataframe\">\n",
       "  <thead>\n",
       "    <tr style=\"text-align: right;\">\n",
       "      <th></th>\n",
       "      <th>Age</th>\n",
       "      <th>Annual Income (k$)</th>\n",
       "      <th>Spending Score (1-100)</th>\n",
       "      <th>Gender_Male</th>\n",
       "      <th>label</th>\n",
       "    </tr>\n",
       "    <tr>\n",
       "      <th>CustomerID</th>\n",
       "      <th></th>\n",
       "      <th></th>\n",
       "      <th></th>\n",
       "      <th></th>\n",
       "      <th></th>\n",
       "    </tr>\n",
       "  </thead>\n",
       "  <tbody>\n",
       "    <tr>\n",
       "      <th>1</th>\n",
       "      <td>19</td>\n",
       "      <td>15</td>\n",
       "      <td>39</td>\n",
       "      <td>1</td>\n",
       "      <td>2</td>\n",
       "    </tr>\n",
       "    <tr>\n",
       "      <th>2</th>\n",
       "      <td>21</td>\n",
       "      <td>15</td>\n",
       "      <td>81</td>\n",
       "      <td>1</td>\n",
       "      <td>2</td>\n",
       "    </tr>\n",
       "    <tr>\n",
       "      <th>3</th>\n",
       "      <td>20</td>\n",
       "      <td>16</td>\n",
       "      <td>6</td>\n",
       "      <td>0</td>\n",
       "      <td>2</td>\n",
       "    </tr>\n",
       "    <tr>\n",
       "      <th>4</th>\n",
       "      <td>23</td>\n",
       "      <td>16</td>\n",
       "      <td>77</td>\n",
       "      <td>0</td>\n",
       "      <td>2</td>\n",
       "    </tr>\n",
       "    <tr>\n",
       "      <th>5</th>\n",
       "      <td>31</td>\n",
       "      <td>17</td>\n",
       "      <td>40</td>\n",
       "      <td>0</td>\n",
       "      <td>2</td>\n",
       "    </tr>\n",
       "    <tr>\n",
       "      <th>...</th>\n",
       "      <td>...</td>\n",
       "      <td>...</td>\n",
       "      <td>...</td>\n",
       "      <td>...</td>\n",
       "      <td>...</td>\n",
       "    </tr>\n",
       "    <tr>\n",
       "      <th>196</th>\n",
       "      <td>35</td>\n",
       "      <td>120</td>\n",
       "      <td>79</td>\n",
       "      <td>0</td>\n",
       "      <td>0</td>\n",
       "    </tr>\n",
       "    <tr>\n",
       "      <th>197</th>\n",
       "      <td>45</td>\n",
       "      <td>126</td>\n",
       "      <td>28</td>\n",
       "      <td>0</td>\n",
       "      <td>1</td>\n",
       "    </tr>\n",
       "    <tr>\n",
       "      <th>198</th>\n",
       "      <td>32</td>\n",
       "      <td>126</td>\n",
       "      <td>74</td>\n",
       "      <td>1</td>\n",
       "      <td>0</td>\n",
       "    </tr>\n",
       "    <tr>\n",
       "      <th>199</th>\n",
       "      <td>32</td>\n",
       "      <td>137</td>\n",
       "      <td>18</td>\n",
       "      <td>1</td>\n",
       "      <td>1</td>\n",
       "    </tr>\n",
       "    <tr>\n",
       "      <th>200</th>\n",
       "      <td>30</td>\n",
       "      <td>137</td>\n",
       "      <td>83</td>\n",
       "      <td>1</td>\n",
       "      <td>0</td>\n",
       "    </tr>\n",
       "  </tbody>\n",
       "</table>\n",
       "<p>200 rows × 5 columns</p>\n",
       "</div>"
      ],
      "text/plain": [
       "            Age  Annual Income (k$)  Spending Score (1-100)  Gender_Male  \\\n",
       "CustomerID                                                                 \n",
       "1            19                  15                      39            1   \n",
       "2            21                  15                      81            1   \n",
       "3            20                  16                       6            0   \n",
       "4            23                  16                      77            0   \n",
       "5            31                  17                      40            0   \n",
       "...         ...                 ...                     ...          ...   \n",
       "196          35                 120                      79            0   \n",
       "197          45                 126                      28            0   \n",
       "198          32                 126                      74            1   \n",
       "199          32                 137                      18            1   \n",
       "200          30                 137                      83            1   \n",
       "\n",
       "            label  \n",
       "CustomerID         \n",
       "1               2  \n",
       "2               2  \n",
       "3               2  \n",
       "4               2  \n",
       "5               2  \n",
       "...           ...  \n",
       "196             0  \n",
       "197             1  \n",
       "198             0  \n",
       "199             1  \n",
       "200             0  \n",
       "\n",
       "[200 rows x 5 columns]"
      ]
     },
     "execution_count": 35,
     "metadata": {},
     "output_type": "execute_result"
    }
   ],
   "source": [
    "# label 칼럼에 모델링 결과값인 label 할당\n",
    "\n",
    "result_df['label'] = model.labels_\n",
    "result_df"
   ]
  },
  {
   "cell_type": "code",
   "execution_count": 36,
   "id": "7a7a0a2c",
   "metadata": {},
   "outputs": [
    {
     "data": {
      "text/html": [
       "<div>\n",
       "<style scoped>\n",
       "    .dataframe tbody tr th:only-of-type {\n",
       "        vertical-align: middle;\n",
       "    }\n",
       "\n",
       "    .dataframe tbody tr th {\n",
       "        vertical-align: top;\n",
       "    }\n",
       "\n",
       "    .dataframe thead th {\n",
       "        text-align: right;\n",
       "    }\n",
       "</style>\n",
       "<table border=\"1\" class=\"dataframe\">\n",
       "  <thead>\n",
       "    <tr style=\"text-align: right;\">\n",
       "      <th></th>\n",
       "      <th>Age</th>\n",
       "      <th>Annual Income (k$)</th>\n",
       "      <th>Spending Score (1-100)</th>\n",
       "      <th>Gender_Male</th>\n",
       "    </tr>\n",
       "    <tr>\n",
       "      <th>label</th>\n",
       "      <th></th>\n",
       "      <th></th>\n",
       "      <th></th>\n",
       "      <th></th>\n",
       "    </tr>\n",
       "  </thead>\n",
       "  <tbody>\n",
       "    <tr>\n",
       "      <th>0</th>\n",
       "      <td>32.692308</td>\n",
       "      <td>86.538462</td>\n",
       "      <td>82.128205</td>\n",
       "      <td>0.461538</td>\n",
       "    </tr>\n",
       "    <tr>\n",
       "      <th>1</th>\n",
       "      <td>40.394737</td>\n",
       "      <td>87.000000</td>\n",
       "      <td>18.631579</td>\n",
       "      <td>0.526316</td>\n",
       "    </tr>\n",
       "    <tr>\n",
       "      <th>2</th>\n",
       "      <td>40.325203</td>\n",
       "      <td>44.154472</td>\n",
       "      <td>49.829268</td>\n",
       "      <td>0.406504</td>\n",
       "    </tr>\n",
       "  </tbody>\n",
       "</table>\n",
       "</div>"
      ],
      "text/plain": [
       "             Age  Annual Income (k$)  Spending Score (1-100)  Gender_Male\n",
       "label                                                                    \n",
       "0      32.692308           86.538462               82.128205     0.461538\n",
       "1      40.394737           87.000000               18.631579     0.526316\n",
       "2      40.325203           44.154472               49.829268     0.406504"
      ]
     },
     "execution_count": 36,
     "metadata": {},
     "output_type": "execute_result"
    }
   ],
   "source": [
    "result_df.groupby('label').mean()"
   ]
  },
  {
   "cell_type": "code",
   "execution_count": 37,
   "id": "25ccc3f4",
   "metadata": {},
   "outputs": [
    {
     "data": {
      "text/plain": [
       "2    123\n",
       "0     39\n",
       "1     38\n",
       "Name: label, dtype: int64"
      ]
     },
     "execution_count": 37,
     "metadata": {},
     "output_type": "execute_result"
    }
   ],
   "source": [
    "result_df['label'].value_counts()"
   ]
  },
  {
   "cell_type": "markdown",
   "id": "c2ec8378",
   "metadata": {},
   "source": [
    "- kmeans 알고리즘은 초기 센트로이드를 랜덤하게 선택함\n",
    "- 이 때문에 파이썬 라이브러리 버전에 따라 결과값이 다르게 나옴\n",
    "- kmeans 알고리즘이 찾은 레이블에는 특별한 의미가 없음"
   ]
  },
  {
   "cell_type": "markdown",
   "id": "ca977293",
   "metadata": {},
   "source": [
    "#### elbow method"
   ]
  },
  {
   "cell_type": "code",
   "execution_count": 38,
   "id": "a45f5d39",
   "metadata": {},
   "outputs": [
    {
     "data": {
      "text/plain": [
       "[212889.44245524297,\n",
       " 143391.5923603568,\n",
       " 104414.67534220166,\n",
       " 75399.61541401483,\n",
       " 58348.64136331505,\n",
       " 51130.69008126376,\n",
       " 44355.31351771351,\n",
       " 40663.673156408804,\n",
       " 37458.31437773177]"
      ]
     },
     "execution_count": 38,
     "metadata": {},
     "output_type": "execute_result"
    }
   ],
   "source": [
    "distance = []\n",
    "\n",
    "for i in range(2, 11):\n",
    "    model = KMeans(n_clusters = i)\n",
    "    model.fit(data)\n",
    "    distance.append(model.inertia_)\n",
    "    \n",
    "distance"
   ]
  },
  {
   "cell_type": "code",
   "execution_count": 39,
   "id": "9c466558",
   "metadata": {},
   "outputs": [
    {
     "data": {
      "text/plain": [
       "<AxesSubplot:>"
      ]
     },
     "execution_count": 39,
     "metadata": {},
     "output_type": "execute_result"
    },
    {
     "data": {
      "image/png": "[encoded data removed]",
      "text/plain": [
       "<Figure size 432x288 with 1 Axes>"
      ]
     },
     "metadata": {
      "needs_background": "light"
     },
     "output_type": "display_data"
    }
   ],
   "source": [
    "sns.lineplot(x = list(range(2, 11)), y = distance)"
   ]
  },
  {
   "cell_type": "markdown",
   "id": "29a10b6e",
   "metadata": {},
   "source": [
    "- 특별히 눈에 띄는 값이 없으므로 elbow method로는 최적값을 찾기 어려움\n",
    "- 이럴 때 silhoutte score 사용"
   ]
  },
  {
   "cell_type": "markdown",
   "id": "58f8724b",
   "metadata": {},
   "source": [
    "#### silhoutte score\n",
    "\n",
    "- silhoutte score는 값이 클수록 좋음"
   ]
  },
  {
   "cell_type": "code",
   "execution_count": 40,
   "id": "2f801620",
   "metadata": {},
   "outputs": [],
   "source": [
    "from sklearn.metrics import silhouette_score"
   ]
  },
  {
   "cell_type": "code",
   "execution_count": 41,
   "id": "6c323fc4",
   "metadata": {},
   "outputs": [
    {
     "data": {
      "text/plain": [
       "0.38015232860990095"
      ]
     },
     "execution_count": 41,
     "metadata": {},
     "output_type": "execute_result"
    }
   ],
   "source": [
    "silhouette_score(data, model.labels_)"
   ]
  },
  {
   "cell_type": "code",
   "execution_count": 42,
   "id": "35a8e60e",
   "metadata": {},
   "outputs": [
    {
     "data": {
      "text/plain": [
       "[0.29307334005502633,\n",
       " 0.383798873822341,\n",
       " 0.4052954330641215,\n",
       " 0.4440669204743008,\n",
       " 0.45205475380756527,\n",
       " 0.4400035911705477,\n",
       " 0.427541566977401,\n",
       " 0.4108740579475523,\n",
       " 0.37837719765939687]"
      ]
     },
     "execution_count": 42,
     "metadata": {},
     "output_type": "execute_result"
    }
   ],
   "source": [
    "sil = []\n",
    "\n",
    "for i in range(2, 11):\n",
    "    model = KMeans(n_clusters = i)\n",
    "    model.fit(data)\n",
    "    sil.append(silhouette_score(data, model.labels_))\n",
    "    \n",
    "sil"
   ]
  },
  {
   "cell_type": "code",
   "execution_count": 43,
   "id": "fd0a9f85",
   "metadata": {},
   "outputs": [
    {
     "data": {
      "text/plain": [
       "<AxesSubplot:>"
      ]
     },
     "execution_count": 43,
     "metadata": {},
     "output_type": "execute_result"
    },
    {
     "data": {
      "image/png": "[encoded data removed]",
      "text/plain": [
       "<Figure size 432x288 with 1 Axes>"
      ]
     },
     "metadata": {
      "needs_background": "light"
     },
     "output_type": "display_data"
    }
   ],
   "source": [
    "sns.lineplot(x = list(range(2, 11)), y = sil)"
   ]
  },
  {
   "cell_type": "markdown",
   "id": "c6f81b97",
   "metadata": {},
   "source": [
    "- 6이 최적의 k"
   ]
  },
  {
   "cell_type": "code",
   "execution_count": 44,
   "id": "9a1ba702",
   "metadata": {},
   "outputs": [
    {
     "data": {
      "text/plain": [
       "KMeans(n_clusters=6)"
      ]
     },
     "execution_count": 44,
     "metadata": {},
     "output_type": "execute_result"
    }
   ],
   "source": [
    "model = KMeans(n_clusters = 6)\n",
    "model.fit(data)"
   ]
  },
  {
   "cell_type": "code",
   "execution_count": 45,
   "id": "c91270ac",
   "metadata": {},
   "outputs": [
    {
     "data": {
      "text/html": [
       "<div>\n",
       "<style scoped>\n",
       "    .dataframe tbody tr th:only-of-type {\n",
       "        vertical-align: middle;\n",
       "    }\n",
       "\n",
       "    .dataframe tbody tr th {\n",
       "        vertical-align: top;\n",
       "    }\n",
       "\n",
       "    .dataframe thead th {\n",
       "        text-align: right;\n",
       "    }\n",
       "</style>\n",
       "<table border=\"1\" class=\"dataframe\">\n",
       "  <thead>\n",
       "    <tr style=\"text-align: right;\">\n",
       "      <th></th>\n",
       "      <th>Age</th>\n",
       "      <th>Annual Income (k$)</th>\n",
       "      <th>Spending Score (1-100)</th>\n",
       "      <th>Gender_Male</th>\n",
       "      <th>label</th>\n",
       "    </tr>\n",
       "    <tr>\n",
       "      <th>CustomerID</th>\n",
       "      <th></th>\n",
       "      <th></th>\n",
       "      <th></th>\n",
       "      <th></th>\n",
       "      <th></th>\n",
       "    </tr>\n",
       "  </thead>\n",
       "  <tbody>\n",
       "    <tr>\n",
       "      <th>1</th>\n",
       "      <td>19</td>\n",
       "      <td>15</td>\n",
       "      <td>39</td>\n",
       "      <td>1</td>\n",
       "      <td>4</td>\n",
       "    </tr>\n",
       "    <tr>\n",
       "      <th>2</th>\n",
       "      <td>21</td>\n",
       "      <td>15</td>\n",
       "      <td>81</td>\n",
       "      <td>1</td>\n",
       "      <td>5</td>\n",
       "    </tr>\n",
       "    <tr>\n",
       "      <th>3</th>\n",
       "      <td>20</td>\n",
       "      <td>16</td>\n",
       "      <td>6</td>\n",
       "      <td>0</td>\n",
       "      <td>4</td>\n",
       "    </tr>\n",
       "    <tr>\n",
       "      <th>4</th>\n",
       "      <td>23</td>\n",
       "      <td>16</td>\n",
       "      <td>77</td>\n",
       "      <td>0</td>\n",
       "      <td>5</td>\n",
       "    </tr>\n",
       "    <tr>\n",
       "      <th>5</th>\n",
       "      <td>31</td>\n",
       "      <td>17</td>\n",
       "      <td>40</td>\n",
       "      <td>0</td>\n",
       "      <td>4</td>\n",
       "    </tr>\n",
       "    <tr>\n",
       "      <th>...</th>\n",
       "      <td>...</td>\n",
       "      <td>...</td>\n",
       "      <td>...</td>\n",
       "      <td>...</td>\n",
       "      <td>...</td>\n",
       "    </tr>\n",
       "    <tr>\n",
       "      <th>196</th>\n",
       "      <td>35</td>\n",
       "      <td>120</td>\n",
       "      <td>79</td>\n",
       "      <td>0</td>\n",
       "      <td>3</td>\n",
       "    </tr>\n",
       "    <tr>\n",
       "      <th>197</th>\n",
       "      <td>45</td>\n",
       "      <td>126</td>\n",
       "      <td>28</td>\n",
       "      <td>0</td>\n",
       "      <td>2</td>\n",
       "    </tr>\n",
       "    <tr>\n",
       "      <th>198</th>\n",
       "      <td>32</td>\n",
       "      <td>126</td>\n",
       "      <td>74</td>\n",
       "      <td>1</td>\n",
       "      <td>3</td>\n",
       "    </tr>\n",
       "    <tr>\n",
       "      <th>199</th>\n",
       "      <td>32</td>\n",
       "      <td>137</td>\n",
       "      <td>18</td>\n",
       "      <td>1</td>\n",
       "      <td>2</td>\n",
       "    </tr>\n",
       "    <tr>\n",
       "      <th>200</th>\n",
       "      <td>30</td>\n",
       "      <td>137</td>\n",
       "      <td>83</td>\n",
       "      <td>1</td>\n",
       "      <td>3</td>\n",
       "    </tr>\n",
       "  </tbody>\n",
       "</table>\n",
       "<p>200 rows × 5 columns</p>\n",
       "</div>"
      ],
      "text/plain": [
       "            Age  Annual Income (k$)  Spending Score (1-100)  Gender_Male  \\\n",
       "CustomerID                                                                 \n",
       "1            19                  15                      39            1   \n",
       "2            21                  15                      81            1   \n",
       "3            20                  16                       6            0   \n",
       "4            23                  16                      77            0   \n",
       "5            31                  17                      40            0   \n",
       "...         ...                 ...                     ...          ...   \n",
       "196          35                 120                      79            0   \n",
       "197          45                 126                      28            0   \n",
       "198          32                 126                      74            1   \n",
       "199          32                 137                      18            1   \n",
       "200          30                 137                      83            1   \n",
       "\n",
       "            label  \n",
       "CustomerID         \n",
       "1               4  \n",
       "2               5  \n",
       "3               4  \n",
       "4               5  \n",
       "5               4  \n",
       "...           ...  \n",
       "196             3  \n",
       "197             2  \n",
       "198             3  \n",
       "199             2  \n",
       "200             3  \n",
       "\n",
       "[200 rows x 5 columns]"
      ]
     },
     "execution_count": 45,
     "metadata": {},
     "output_type": "execute_result"
    }
   ],
   "source": [
    "data['label'] = model.labels_\n",
    "data"
   ]
  },
  {
   "cell_type": "code",
   "execution_count": 46,
   "id": "2d4d566b",
   "metadata": {},
   "outputs": [
    {
     "data": {
      "text/html": [
       "<div>\n",
       "<style scoped>\n",
       "    .dataframe tbody tr th:only-of-type {\n",
       "        vertical-align: middle;\n",
       "    }\n",
       "\n",
       "    .dataframe tbody tr th {\n",
       "        vertical-align: top;\n",
       "    }\n",
       "\n",
       "    .dataframe thead th {\n",
       "        text-align: right;\n",
       "    }\n",
       "</style>\n",
       "<table border=\"1\" class=\"dataframe\">\n",
       "  <thead>\n",
       "    <tr style=\"text-align: right;\">\n",
       "      <th></th>\n",
       "      <th>Age</th>\n",
       "      <th>Annual Income (k$)</th>\n",
       "      <th>Spending Score (1-100)</th>\n",
       "      <th>Gender_Male</th>\n",
       "    </tr>\n",
       "    <tr>\n",
       "      <th>label</th>\n",
       "      <th></th>\n",
       "      <th></th>\n",
       "      <th></th>\n",
       "      <th></th>\n",
       "    </tr>\n",
       "  </thead>\n",
       "  <tbody>\n",
       "    <tr>\n",
       "      <th>0</th>\n",
       "      <td>56.155556</td>\n",
       "      <td>53.377778</td>\n",
       "      <td>49.088889</td>\n",
       "      <td>0.444444</td>\n",
       "    </tr>\n",
       "    <tr>\n",
       "      <th>1</th>\n",
       "      <td>27.000000</td>\n",
       "      <td>56.657895</td>\n",
       "      <td>49.131579</td>\n",
       "      <td>0.342105</td>\n",
       "    </tr>\n",
       "    <tr>\n",
       "      <th>2</th>\n",
       "      <td>41.685714</td>\n",
       "      <td>88.228571</td>\n",
       "      <td>17.285714</td>\n",
       "      <td>0.571429</td>\n",
       "    </tr>\n",
       "    <tr>\n",
       "      <th>3</th>\n",
       "      <td>32.692308</td>\n",
       "      <td>86.538462</td>\n",
       "      <td>82.128205</td>\n",
       "      <td>0.461538</td>\n",
       "    </tr>\n",
       "    <tr>\n",
       "      <th>4</th>\n",
       "      <td>44.142857</td>\n",
       "      <td>25.142857</td>\n",
       "      <td>19.523810</td>\n",
       "      <td>0.380952</td>\n",
       "    </tr>\n",
       "    <tr>\n",
       "      <th>5</th>\n",
       "      <td>25.272727</td>\n",
       "      <td>25.727273</td>\n",
       "      <td>79.363636</td>\n",
       "      <td>0.409091</td>\n",
       "    </tr>\n",
       "  </tbody>\n",
       "</table>\n",
       "</div>"
      ],
      "text/plain": [
       "             Age  Annual Income (k$)  Spending Score (1-100)  Gender_Male\n",
       "label                                                                    \n",
       "0      56.155556           53.377778               49.088889     0.444444\n",
       "1      27.000000           56.657895               49.131579     0.342105\n",
       "2      41.685714           88.228571               17.285714     0.571429\n",
       "3      32.692308           86.538462               82.128205     0.461538\n",
       "4      44.142857           25.142857               19.523810     0.380952\n",
       "5      25.272727           25.727273               79.363636     0.409091"
      ]
     },
     "execution_count": 46,
     "metadata": {},
     "output_type": "execute_result"
    }
   ],
   "source": [
    "data.groupby('label').mean()"
   ]
  },
  {
   "cell_type": "markdown",
   "id": "58b167ab",
   "metadata": {},
   "source": [
    "#### box plot으로 각 칼럼 특성 확인"
   ]
  },
  {
   "cell_type": "code",
   "execution_count": 47,
   "id": "38c98894",
   "metadata": {},
   "outputs": [
    {
     "data": {
      "text/plain": [
       "<AxesSubplot:xlabel='label', ylabel='Age'>"
      ]
     },
     "execution_count": 47,
     "metadata": {},
     "output_type": "execute_result"
    },
    {
     "data": {
      "image/png": "[encoded data removed]",
      "text/plain": [
       "<Figure size 432x288 with 1 Axes>"
      ]
     },
     "metadata": {
      "needs_background": "light"
     },
     "output_type": "display_data"
    }
   ],
   "source": [
    "sns.boxplot(x = 'label', y = 'Age', data = data)"
   ]
  },
  {
   "cell_type": "code",
   "execution_count": 48,
   "id": "08d7a57e",
   "metadata": {},
   "outputs": [
    {
     "data": {
      "text/plain": [
       "<AxesSubplot:xlabel='label', ylabel='Annual Income (k$)'>"
      ]
     },
     "execution_count": 48,
     "metadata": {},
     "output_type": "execute_result"
    },
    {
     "data": {
      "image/png": "[encoded data removed]",
      "text/plain": [
       "<Figure size 432x288 with 1 Axes>"
      ]
     },
     "metadata": {
      "needs_background": "light"
     },
     "output_type": "display_data"
    }
   ],
   "source": [
    "sns.boxplot(x = 'label', y = 'Annual Income (k$)', data = data)"
   ]
  },
  {
   "cell_type": "code",
   "execution_count": 49,
   "id": "0ab1ca40",
   "metadata": {},
   "outputs": [
    {
     "data": {
      "text/plain": [
       "<AxesSubplot:xlabel='label', ylabel='Spending Score (1-100)'>"
      ]
     },
     "execution_count": 49,
     "metadata": {},
     "output_type": "execute_result"
    },
    {
     "data": {
      "image/png": "[encoded data removed]",
      "text/plain": [
       "<Figure size 432x288 with 1 Axes>"
      ]
     },
     "metadata": {
      "needs_background": "light"
     },
     "output_type": "display_data"
    }
   ],
   "source": [
    "sns.boxplot(x = 'label', y = 'Spending Score (1-100)', data = data)"
   ]
  },
  {
   "cell_type": "markdown",
   "id": "2b22a322",
   "metadata": {},
   "source": [
    "### PCA(주성분분석, 차원축소)를 활용하여 변수를 줄이고 scatter plot 그리기"
   ]
  },
  {
   "cell_type": "code",
   "execution_count": 50,
   "id": "26910cfb",
   "metadata": {},
   "outputs": [
    {
     "data": {
      "text/html": [
       "<div>\n",
       "<style scoped>\n",
       "    .dataframe tbody tr th:only-of-type {\n",
       "        vertical-align: middle;\n",
       "    }\n",
       "\n",
       "    .dataframe tbody tr th {\n",
       "        vertical-align: top;\n",
       "    }\n",
       "\n",
       "    .dataframe thead th {\n",
       "        text-align: right;\n",
       "    }\n",
       "</style>\n",
       "<table border=\"1\" class=\"dataframe\">\n",
       "  <thead>\n",
       "    <tr style=\"text-align: right;\">\n",
       "      <th></th>\n",
       "      <th>Age</th>\n",
       "      <th>Annual Income (k$)</th>\n",
       "      <th>Spending Score (1-100)</th>\n",
       "      <th>Gender_Male</th>\n",
       "    </tr>\n",
       "    <tr>\n",
       "      <th>CustomerID</th>\n",
       "      <th></th>\n",
       "      <th></th>\n",
       "      <th></th>\n",
       "      <th></th>\n",
       "    </tr>\n",
       "  </thead>\n",
       "  <tbody>\n",
       "    <tr>\n",
       "      <th>1</th>\n",
       "      <td>19</td>\n",
       "      <td>15</td>\n",
       "      <td>39</td>\n",
       "      <td>1</td>\n",
       "    </tr>\n",
       "    <tr>\n",
       "      <th>2</th>\n",
       "      <td>21</td>\n",
       "      <td>15</td>\n",
       "      <td>81</td>\n",
       "      <td>1</td>\n",
       "    </tr>\n",
       "    <tr>\n",
       "      <th>3</th>\n",
       "      <td>20</td>\n",
       "      <td>16</td>\n",
       "      <td>6</td>\n",
       "      <td>0</td>\n",
       "    </tr>\n",
       "    <tr>\n",
       "      <th>4</th>\n",
       "      <td>23</td>\n",
       "      <td>16</td>\n",
       "      <td>77</td>\n",
       "      <td>0</td>\n",
       "    </tr>\n",
       "    <tr>\n",
       "      <th>5</th>\n",
       "      <td>31</td>\n",
       "      <td>17</td>\n",
       "      <td>40</td>\n",
       "      <td>0</td>\n",
       "    </tr>\n",
       "    <tr>\n",
       "      <th>...</th>\n",
       "      <td>...</td>\n",
       "      <td>...</td>\n",
       "      <td>...</td>\n",
       "      <td>...</td>\n",
       "    </tr>\n",
       "    <tr>\n",
       "      <th>196</th>\n",
       "      <td>35</td>\n",
       "      <td>120</td>\n",
       "      <td>79</td>\n",
       "      <td>0</td>\n",
       "    </tr>\n",
       "    <tr>\n",
       "      <th>197</th>\n",
       "      <td>45</td>\n",
       "      <td>126</td>\n",
       "      <td>28</td>\n",
       "      <td>0</td>\n",
       "    </tr>\n",
       "    <tr>\n",
       "      <th>198</th>\n",
       "      <td>32</td>\n",
       "      <td>126</td>\n",
       "      <td>74</td>\n",
       "      <td>1</td>\n",
       "    </tr>\n",
       "    <tr>\n",
       "      <th>199</th>\n",
       "      <td>32</td>\n",
       "      <td>137</td>\n",
       "      <td>18</td>\n",
       "      <td>1</td>\n",
       "    </tr>\n",
       "    <tr>\n",
       "      <th>200</th>\n",
       "      <td>30</td>\n",
       "      <td>137</td>\n",
       "      <td>83</td>\n",
       "      <td>1</td>\n",
       "    </tr>\n",
       "  </tbody>\n",
       "</table>\n",
       "<p>200 rows × 4 columns</p>\n",
       "</div>"
      ],
      "text/plain": [
       "            Age  Annual Income (k$)  Spending Score (1-100)  Gender_Male\n",
       "CustomerID                                                              \n",
       "1            19                  15                      39            1\n",
       "2            21                  15                      81            1\n",
       "3            20                  16                       6            0\n",
       "4            23                  16                      77            0\n",
       "5            31                  17                      40            0\n",
       "...         ...                 ...                     ...          ...\n",
       "196          35                 120                      79            0\n",
       "197          45                 126                      28            0\n",
       "198          32                 126                      74            1\n",
       "199          32                 137                      18            1\n",
       "200          30                 137                      83            1\n",
       "\n",
       "[200 rows x 4 columns]"
      ]
     },
     "execution_count": 50,
     "metadata": {},
     "output_type": "execute_result"
    }
   ],
   "source": [
    "# PCA에 label 정보가 들어가면 안되므로, 다시 해당칼럼 제거\n",
    "\n",
    "data.drop('label', axis = 1, inplace = True)\n",
    "data"
   ]
  },
  {
   "cell_type": "code",
   "execution_count": 51,
   "id": "13f2ee0e",
   "metadata": {},
   "outputs": [],
   "source": [
    "from sklearn.decomposition import PCA"
   ]
  },
  {
   "cell_type": "code",
   "execution_count": 52,
   "id": "7456301f",
   "metadata": {},
   "outputs": [],
   "source": [
    "# 몇 개의 변수로 줄일 것인지 파라미터로 설정\n",
    "\n",
    "pca = PCA(n_components = 2)"
   ]
  },
  {
   "cell_type": "code",
   "execution_count": 53,
   "id": "ad883db3",
   "metadata": {},
   "outputs": [
    {
     "data": {
      "text/plain": [
       "PCA(n_components=2)"
      ]
     },
     "execution_count": 53,
     "metadata": {},
     "output_type": "execute_result"
    }
   ],
   "source": [
    "pca.fit(data)"
   ]
  },
  {
   "cell_type": "code",
   "execution_count": 54,
   "id": "9951069b",
   "metadata": {},
   "outputs": [],
   "source": [
    "pca_df = pca.transform(data)"
   ]
  },
  {
   "cell_type": "code",
   "execution_count": 55,
   "id": "e3423a68",
   "metadata": {},
   "outputs": [
    {
     "data": {
      "text/html": [
       "<div>\n",
       "<style scoped>\n",
       "    .dataframe tbody tr th:only-of-type {\n",
       "        vertical-align: middle;\n",
       "    }\n",
       "\n",
       "    .dataframe tbody tr th {\n",
       "        vertical-align: top;\n",
       "    }\n",
       "\n",
       "    .dataframe thead th {\n",
       "        text-align: right;\n",
       "    }\n",
       "</style>\n",
       "<table border=\"1\" class=\"dataframe\">\n",
       "  <thead>\n",
       "    <tr style=\"text-align: right;\">\n",
       "      <th></th>\n",
       "      <th>PC1</th>\n",
       "      <th>PC2</th>\n",
       "    </tr>\n",
       "  </thead>\n",
       "  <tbody>\n",
       "    <tr>\n",
       "      <th>0</th>\n",
       "      <td>-31.869945</td>\n",
       "      <td>-33.001252</td>\n",
       "    </tr>\n",
       "    <tr>\n",
       "      <th>1</th>\n",
       "      <td>0.764494</td>\n",
       "      <td>-56.842901</td>\n",
       "    </tr>\n",
       "    <tr>\n",
       "      <th>2</th>\n",
       "      <td>-57.408276</td>\n",
       "      <td>-13.124961</td>\n",
       "    </tr>\n",
       "    <tr>\n",
       "      <th>3</th>\n",
       "      <td>-2.168543</td>\n",
       "      <td>-53.478590</td>\n",
       "    </tr>\n",
       "    <tr>\n",
       "      <th>4</th>\n",
       "      <td>-32.174085</td>\n",
       "      <td>-30.388412</td>\n",
       "    </tr>\n",
       "    <tr>\n",
       "      <th>...</th>\n",
       "      <td>...</td>\n",
       "      <td>...</td>\n",
       "    </tr>\n",
       "    <tr>\n",
       "      <th>195</th>\n",
       "      <td>58.352515</td>\n",
       "      <td>31.017542</td>\n",
       "    </tr>\n",
       "    <tr>\n",
       "      <th>196</th>\n",
       "      <td>19.908001</td>\n",
       "      <td>66.446108</td>\n",
       "    </tr>\n",
       "    <tr>\n",
       "      <th>197</th>\n",
       "      <td>58.520804</td>\n",
       "      <td>38.346039</td>\n",
       "    </tr>\n",
       "    <tr>\n",
       "      <th>198</th>\n",
       "      <td>20.979130</td>\n",
       "      <td>79.376405</td>\n",
       "    </tr>\n",
       "    <tr>\n",
       "      <th>199</th>\n",
       "      <td>72.447693</td>\n",
       "      <td>41.811336</td>\n",
       "    </tr>\n",
       "  </tbody>\n",
       "</table>\n",
       "<p>200 rows × 2 columns</p>\n",
       "</div>"
      ],
      "text/plain": [
       "           PC1        PC2\n",
       "0   -31.869945 -33.001252\n",
       "1     0.764494 -56.842901\n",
       "2   -57.408276 -13.124961\n",
       "3    -2.168543 -53.478590\n",
       "4   -32.174085 -30.388412\n",
       "..         ...        ...\n",
       "195  58.352515  31.017542\n",
       "196  19.908001  66.446108\n",
       "197  58.520804  38.346039\n",
       "198  20.979130  79.376405\n",
       "199  72.447693  41.811336\n",
       "\n",
       "[200 rows x 2 columns]"
      ]
     },
     "execution_count": 55,
     "metadata": {},
     "output_type": "execute_result"
    }
   ],
   "source": [
    "pca_df = pd.DataFrame(pca_df, columns = ['PC1', 'PC2'])\n",
    "pca_df"
   ]
  },
  {
   "cell_type": "code",
   "execution_count": 56,
   "id": "8daf983f",
   "metadata": {},
   "outputs": [
    {
     "data": {
      "text/plain": [
       "<AxesSubplot:xlabel='PC1', ylabel='PC2'>"
      ]
     },
     "execution_count": 56,
     "metadata": {},
     "output_type": "execute_result"
    },
    {
     "data": {
      "image/png": "[encoded data removed]",
      "text/plain": [
       "<Figure size 1440x720 with 1 Axes>"
      ]
     },
     "metadata": {
      "needs_background": "light"
     },
     "output_type": "display_data"
    }
   ],
   "source": [
    "plt.figure(figsize = (20, 10))\n",
    "sns.scatterplot(x = pca_df['PC1'], y = pca_df['PC2'], hue = model.labels_, palette = 'Set2', s = 100)"
   ]
  }
 ],
 "metadata": {
  "kernelspec": {
   "display_name": "Python 3 (ipykernel)",
   "language": "python",
   "name": "python3"
  },
  "language_info": {
   "codemirror_mode": {
    "name": "ipython",
    "version": 3
   },
   "file_extension": ".py",
   "mimetype": "text/x-python",
   "name": "python",
   "nbconvert_exporter": "python",
   "pygments_lexer": "ipython3",
   "version": "3.9.12"
  }
 },
 "nbformat": 4,
 "nbformat_minor": 5
}
